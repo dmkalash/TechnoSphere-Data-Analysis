{
 "cells": [
  {
   "cell_type": "markdown",
   "metadata": {
    "id": "0c6D_j7oyWfl"
   },
   "source": [
    "# Урок 1. Анализ данных. Введение в Python"
   ]
  },
  {
   "cell_type": "markdown",
   "metadata": {
    "id": "LFYFhZ6MyWfp"
   },
   "source": [
    "### История языка"
   ]
  },
  {
   "cell_type": "markdown",
   "metadata": {
    "id": "pSw9QCThyWfr"
   },
   "source": [
    "Python был разработан в конце 1989г. Гуидо ван Россумом (Guido van Rossum) во время рождественских каникул, когда его исследовательская лаборатория была закрыта и ему просто некуда было деваться. Он позаимствовал многие средства программирования, присущие другим языкам."
   ]
  },
  {
   "cell_type": "markdown",
   "metadata": {
    "id": "cdi47YH6yWft"
   },
   "source": []
  },
  {
   "cell_type": "markdown",
   "metadata": {
    "id": "XCqnNFiYyWfu"
   },
   "source": [
    "В июле 2018 года Гвидо ван Россум (Guido van Rossum) сообщил о намерении покинуть пост великодушного пожизненного диктатора (BDFL) проекта Python и полностью отстраниться от участия в процессах принятия решений. Основной причиной ухода является нежелание больше тратить своё время на баталии при принятии PEP-спецификаций (в январе Гвидо исполнилось 62 года и он устал от сложившегося темпа работы)."
   ]
  },
  {
   "cell_type": "markdown",
   "metadata": {
    "id": "FzuD15z-yWfv"
   },
   "source": [
    "**PEP - спецификации** - рекомендации по написанию коду на Python, руководство о согласованности и единстве.\n",
    "\n",
    "\n",
    "Код читается намного больше раз, чем пишется. Собственно, рекомендации о стиле написания кода направлены на то, чтобы улучшить читаемость кода и сделать его согласованным между большим числом проектов. В идеале, весь код будет написан в едином стиле, и любой сможет легко его прочесть."
   ]
  },
  {
   "cell_type": "markdown",
   "metadata": {
    "id": "y8I2fo_XyWfw"
   },
   "source": [
    "### Питон - это змея?"
   ]
  },
  {
   "cell_type": "markdown",
   "metadata": {
    "id": "Kf0ucOLkyWfx"
   },
   "source": [
    "Название языка произошло вовсе не от вида пресмыкающихся. Автор назвал язык в честь популярного британского комедийного телешоу 1970-х <B>\"Летающий цирк Монти Пайтона\"</B>. Впрочем, всё равно название языка чаще связывают именно со змеёй, нежели с передачей — пиктограммы файлов в KDE или в Microsoft Windows и даже эмблема на сайте python.org (до выхода версии 2.5) изображают змеиные головы. Важная цель разработчиков Python — создавать его забавным для использования. "
   ]
  },
  {
   "cell_type": "markdown",
   "metadata": {
    "id": "3fPKnXA2yWfy"
   },
   "source": [
    "### \"Батарейки в комплекте\""
   ]
  },
  {
   "cell_type": "markdown",
   "metadata": {
    "id": "84fktz9yyWfz"
   },
   "source": [
    "<img height = '200px' src=\"images/lesson_1/Python_batteries_included.jpg\">"
   ]
  },
  {
   "cell_type": "markdown",
   "metadata": {
    "id": "Nj89T838yWf0"
   },
   "source": [
    "Что это может означать?"
   ]
  },
  {
   "cell_type": "markdown",
   "metadata": {
    "id": "3xy49sYJyWf2"
   },
   "source": [
    " <img height = '200px' src=\"images/lesson_1/python_fly.png\">"
   ]
  },
  {
   "cell_type": "markdown",
   "metadata": {
    "id": "ZBi8BsVlyWf3"
   },
   "source": [
    "**Jupyter Notebook** (прежнее название -  IPython Notebook) - популярнейшая бесплатная интерактивная оболочка для языка программирования Python, позволяющая объединить код, текст и диаграммы, и распространять их для других пользователей."
   ]
  },
  {
   "cell_type": "markdown",
   "metadata": {
    "id": "RcHoZrE3yWf4"
   },
   "source": [
    " <img height = '200px' src=\"images/lesson_1/jupyterpreview.png\">"
   ]
  },
  {
   "cell_type": "code",
   "execution_count": null,
   "metadata": {
    "id": "k0trGcOKyWf5"
   },
   "outputs": [],
   "source": [
    "# Разные типы разметки ячеек\n",
    "# Command Mode|Edit mode"
   ]
  },
  {
   "cell_type": "markdown",
   "metadata": {
    "id": "mZUpiLudyWgB"
   },
   "source": [
    "### Философия Python"
   ]
  },
  {
   "cell_type": "code",
   "execution_count": null,
   "metadata": {
    "id": "GnEnw132yWgC",
    "outputId": "7da055b3-d639-4476-d873-566c42483720"
   },
   "outputs": [
    {
     "name": "stdout",
     "output_type": "stream",
     "text": [
      "The Zen of Python, by Tim Peters\n",
      "\n",
      "Beautiful is better than ugly.\n",
      "Explicit is better than implicit.\n",
      "Simple is better than complex.\n",
      "Complex is better than complicated.\n",
      "Flat is better than nested.\n",
      "Sparse is better than dense.\n",
      "Readability counts.\n",
      "Special cases aren't special enough to break the rules.\n",
      "Although practicality beats purity.\n",
      "Errors should never pass silently.\n",
      "Unless explicitly silenced.\n",
      "In the face of ambiguity, refuse the temptation to guess.\n",
      "There should be one-- and preferably only one --obvious way to do it.\n",
      "Although that way may not be obvious at first unless you're Dutch.\n",
      "Now is better than never.\n",
      "Although never is often better than *right* now.\n",
      "If the implementation is hard to explain, it's a bad idea.\n",
      "If the implementation is easy to explain, it may be a good idea.\n",
      "Namespaces are one honking great idea -- let's do more of those!\n"
     ]
    }
   ],
   "source": [
    "import this"
   ]
  },
  {
   "cell_type": "markdown",
   "metadata": {
    "id": "pnDzwYo1yWgI"
   },
   "source": [
    " <img height = '200px' src=\"images/lesson_1/mlwdc.jpg\">"
   ]
  },
  {
   "cell_type": "markdown",
   "metadata": {
    "id": "b1le4lGUyWgJ"
   },
   "source": [
    "### Основы Python"
   ]
  },
  {
   "cell_type": "markdown",
   "metadata": {
    "id": "ptkKw3zNyWgJ"
   },
   "source": [
    "Для нас важно помнить, что Python:\n",
    "\n",
    "- интерпретируемый;\n",
    "- с динамической типизацией;\n",
    "- имеет возможности как для ООП, так и для ФП.\n",
    "\n",
    "Официальная документация Python доступна по ссылке https://docs.python.org/3/."
   ]
  },
  {
   "cell_type": "markdown",
   "metadata": {
    "id": "R6YOUDzWyWgK"
   },
   "source": [
    "### Пример программы"
   ]
  },
  {
   "cell_type": "code",
   "execution_count": null,
   "metadata": {
    "id": "Lm54ZWAJyWgL",
    "outputId": "a9283f8e-efb5-4d0f-915c-1b4d7799123b"
   },
   "outputs": [
    {
     "name": "stdout",
     "output_type": "stream",
     "text": [
      "Продолжать изучать анализ данных с помощью Python?\n",
      "Продолжай изучать на лекции!\n"
     ]
    }
   ],
   "source": [
    "import time\n",
    "\n",
    "def learn_python_function(on_lecture=True):\n",
    "    print(\"Продолжать изучать анализ данных с помощью Python?\")\n",
    "\n",
    "    dark = {\n",
    "        1: 16, 2: 17, 3: 18, 4: 19, 5: 19,\n",
    "        6: 20, 7: 20, 8: 19, 9: 18,\n",
    "        10: 17, 11: 16, 12: 16\n",
    "    }\n",
    "\n",
    "    light = {\n",
    "        1: 8, 2: 7, 3: 6, 4: 5, 5: 4,\n",
    "        6: 4, 7: 4, 8: 5, 9: 6, 10: 6,\n",
    "        11: 7, 12: 8\n",
    "    }\n",
    "\n",
    "    time_now = time.localtime()\n",
    "\n",
    "    if time_now.tm_hour >= dark[time_now.tm_mon] or time_now.tm_hour < light[time_now.tm_mon]:\n",
    "        if on_lecture == False:\n",
    "            print(\"Нет, пора немного отдохнуть!\")\n",
    "        else:\n",
    "            print(\"Продолжай изучать на лекции!\")\n",
    "    else:\n",
    "        print(\"Да, продолжай!\")\n",
    "\n",
    "\n",
    "learn_python_function(True)"
   ]
  },
  {
   "cell_type": "markdown",
   "metadata": {
    "id": "kxCYvi9OyWgO"
   },
   "source": [
    "- блоки в Python всегда выделены отступом;\n",
    "- двоеточие (:) важно, поскольку вводит новый блок кода, который должен быть смещен на один отступ вправо;\n",
    "- каждый блок кода может содержать любое количество вложенных блоков, которые также отделяются отступами."
   ]
  },
  {
   "cell_type": "markdown",
   "metadata": {
    "id": "zXgOFrkCyWgP"
   },
   "source": [
    "### Комментарии"
   ]
  },
  {
   "cell_type": "code",
   "execution_count": null,
   "metadata": {
    "id": "hp-xOeqpyWgQ"
   },
   "outputs": [],
   "source": [
    "# это первый комментарий\n",
    "spam = 1  # а это второй комментарий\n",
    "# ... а сейчас третий!\n",
    "text = \"# Это не комментарий, потому что он внутри кавычек.\"\n",
    "\n",
    "# CTRL + /"
   ]
  },
  {
   "cell_type": "markdown",
   "metadata": {
    "id": "D8fg1bQtyWgT"
   },
   "source": [
    "### Вывод данных"
   ]
  },
  {
   "cell_type": "code",
   "execution_count": null,
   "metadata": {
    "id": "oy-rljCxyWgT",
    "outputId": "eb37ccff-30f6-4092-d7fa-df6a05e12f18"
   },
   "outputs": [
    {
     "name": "stdout",
     "output_type": "stream",
     "text": [
      "Всем привет!\n",
      "A B C\n",
      "A!B!C\n"
     ]
    }
   ],
   "source": [
    "print(\"Всем привет!\")\n",
    "print(\"A\", \"B\", \"C\")\n",
    "print(\"A\", \"B\", \"C\", sep=\"!\")"
   ]
  },
  {
   "cell_type": "code",
   "execution_count": null,
   "metadata": {
    "id": "5bAHANHOyWgW",
    "outputId": "0a366729-db24-4ca7-e733-7a53b6339b80"
   },
   "outputs": [
    {
     "name": "stdout",
     "output_type": "stream",
     "text": [
      "i: 0\n",
      "i: 1\n",
      "i: 2\n"
     ]
    }
   ],
   "source": [
    "for i in range(3):\n",
    "    print(\"i: \" + str(i))  "
   ]
  },
  {
   "cell_type": "code",
   "execution_count": null,
   "metadata": {
    "id": "HOjuFccAyWga",
    "outputId": "3afef7f6-27ba-49e5-aea9-932c06504077"
   },
   "outputs": [
    {
     "name": "stdout",
     "output_type": "stream",
     "text": [
      "i: 0 ---- i: 1 ---- i: 2 ---- "
     ]
    }
   ],
   "source": [
    "for i in range(3):\n",
    "    print(\"i: \" + str(i), end=\" ---- \")"
   ]
  },
  {
   "cell_type": "code",
   "execution_count": null,
   "metadata": {
    "id": "KFlxr96syWgd",
    "outputId": "c22e4ee7-c396-4984-b2f3-c0a55c4c8419"
   },
   "outputs": [
    {
     "name": "stdout",
     "output_type": "stream",
     "text": [
      "12\n",
      "Вывод: 12\n"
     ]
    }
   ],
   "source": [
    "a = input()\n",
    "print('Вывод: ' + a)"
   ]
  },
  {
   "cell_type": "code",
   "execution_count": null,
   "metadata": {
    "id": "u_H0IQ-IyWgg",
    "outputId": "f95325b6-d404-4fac-c147-7a3bc05ec15a"
   },
   "outputs": [
    {
     "data": {
      "text/plain": [
       "'12'"
      ]
     },
     "execution_count": 72,
     "metadata": {
      "tags": []
     },
     "output_type": "execute_result"
    }
   ],
   "source": [
    "a"
   ]
  },
  {
   "cell_type": "markdown",
   "metadata": {
    "id": "9LYihJVoyWgi"
   },
   "source": [
    "### Числа"
   ]
  },
  {
   "cell_type": "code",
   "execution_count": null,
   "metadata": {
    "id": "i-NqdyCMyWgj",
    "outputId": "1b345ded-daa5-4241-ae1c-25c096012ec4"
   },
   "outputs": [
    {
     "data": {
      "text/plain": [
       "4"
      ]
     },
     "execution_count": 11,
     "metadata": {
      "tags": []
     },
     "output_type": "execute_result"
    }
   ],
   "source": [
    "2+2"
   ]
  },
  {
   "cell_type": "code",
   "execution_count": null,
   "metadata": {
    "id": "xSqE5ftjyWgl",
    "outputId": "29591e13-cc62-4b97-9c28-5000b3164e09"
   },
   "outputs": [
    {
     "data": {
      "text/plain": [
       "20"
      ]
     },
     "execution_count": 12,
     "metadata": {
      "tags": []
     },
     "output_type": "execute_result"
    }
   ],
   "source": [
    "50 - 5*6"
   ]
  },
  {
   "cell_type": "code",
   "execution_count": null,
   "metadata": {
    "id": "ay7-jw-QyWgo",
    "outputId": "abd681f6-493b-4d2b-95ac-fd3cb9c9b45d"
   },
   "outputs": [
    {
     "data": {
      "text/plain": [
       "5.0"
      ]
     },
     "execution_count": 13,
     "metadata": {
      "tags": []
     },
     "output_type": "execute_result"
    }
   ],
   "source": [
    "(50 - 5*6) / 4"
   ]
  },
  {
   "cell_type": "code",
   "execution_count": null,
   "metadata": {
    "id": "z8oTY1oKyWgr",
    "outputId": "40cab9ad-1152-4c89-905f-16783d66b039"
   },
   "outputs": [
    {
     "data": {
      "text/plain": [
       "1.6"
      ]
     },
     "execution_count": 14,
     "metadata": {
      "tags": []
     },
     "output_type": "execute_result"
    }
   ],
   "source": [
    "8 / 5  # деление всегда возвращает число с плавающей точкой"
   ]
  },
  {
   "cell_type": "markdown",
   "metadata": {
    "id": "CCntbU3eyWgt"
   },
   "source": [
    "Целые числа (например, 2, 4, 20) имеют тип int, те, что с дробной частью, (e.g. 5.0, 1.6) имеют тип float."
   ]
  },
  {
   "cell_type": "markdown",
   "metadata": {
    "id": "AhSGUP2vyWgu"
   },
   "source": [
    "Деление (/) в третьем питоне всегда возвращает float (во втором питоне деление целого числа на целое даёт целочисленное деление). Чтобы сделать целочисленное деление (отметая дробную часть) вы можете использовать оператор //; чтобы посчитать остаток от деления, вы можете использовать %:"
   ]
  },
  {
   "cell_type": "code",
   "execution_count": null,
   "metadata": {
    "id": "ldSozwZUyWgu",
    "outputId": "94bdaa88-91ff-446c-cfbf-222e8d3eda03"
   },
   "outputs": [
    {
     "data": {
      "text/plain": [
       "5"
      ]
     },
     "execution_count": 15,
     "metadata": {
      "tags": []
     },
     "output_type": "execute_result"
    }
   ],
   "source": [
    "17 // 3"
   ]
  },
  {
   "cell_type": "code",
   "execution_count": null,
   "metadata": {
    "id": "6qJHsKgDyWgy",
    "outputId": "ae7c5bef-bea4-4962-8c51-b8bf29899e02"
   },
   "outputs": [
    {
     "data": {
      "text/plain": [
       "2"
      ]
     },
     "execution_count": 16,
     "metadata": {
      "tags": []
     },
     "output_type": "execute_result"
    }
   ],
   "source": [
    "17 % 3"
   ]
  },
  {
   "cell_type": "code",
   "execution_count": null,
   "metadata": {
    "id": "nZgzgBcZyWg0",
    "outputId": "61990720-5e99-44ef-972c-0dbde295ae98"
   },
   "outputs": [
    {
     "data": {
      "text/plain": [
       "25"
      ]
     },
     "execution_count": 17,
     "metadata": {
      "tags": []
     },
     "output_type": "execute_result"
    }
   ],
   "source": [
    "5 ** 2 #возведение в степень"
   ]
  },
  {
   "cell_type": "markdown",
   "metadata": {
    "id": "GilUlhM9yWg2"
   },
   "source": [
    "Знак равенства (=) используется для присвоения значения переменной."
   ]
  },
  {
   "cell_type": "code",
   "execution_count": null,
   "metadata": {
    "id": "pbzh0DaxyWg2",
    "outputId": "a3bd0dc2-257c-4558-fa44-0ea8e8adf5af"
   },
   "outputs": [
    {
     "data": {
      "text/plain": [
       "600"
      ]
     },
     "execution_count": 19,
     "metadata": {
      "tags": []
     },
     "output_type": "execute_result"
    }
   ],
   "source": [
    "width = 20\n",
    "height = 30\n",
    "S = width * height\n",
    "S"
   ]
  },
  {
   "cell_type": "markdown",
   "metadata": {
    "id": "GOkBQEJWyWg5"
   },
   "source": [
    "Присутствует полная поддержка операций с плавающей точкой; операции над операндами смешанного типа конвертируют целочисленный операнд в число с плавающей запятой:"
   ]
  },
  {
   "cell_type": "code",
   "execution_count": null,
   "metadata": {
    "id": "BfIAg5EQyWg6",
    "outputId": "98b75ce2-35d2-4f93-c47f-8147db26e5c8"
   },
   "outputs": [
    {
     "data": {
      "text/plain": [
       "7.5"
      ]
     },
     "execution_count": 20,
     "metadata": {
      "tags": []
     },
     "output_type": "execute_result"
    }
   ],
   "source": [
    "3 * 3.75 / 1.5"
   ]
  },
  {
   "cell_type": "markdown",
   "metadata": {
    "id": "ssNCoNFlyWg8"
   },
   "source": [
    "В дополнении к int и float Python поддерживает другие типы чисел, такие как Decimal и Fraction. Python также имеет встроенную поддержку для комплексных чисел, и использует суффикс j или J для указания мнимой части (например, 3+5j)."
   ]
  },
  {
   "cell_type": "markdown",
   "metadata": {
    "id": "qlWkaxvzyWg8"
   },
   "source": [
    "### Строки"
   ]
  },
  {
   "cell_type": "markdown",
   "metadata": {
    "id": "kbVhR-r-yWg9"
   },
   "source": [
    "Помимо чисел, Python может работать со строками, которые, в свою очередь, могут быть описаны различными способами. Строки могут быть заключены в одинарные ('...') или двойные кавычки (\"...\"), без разницы; \\ может быть использован для экранирования кавычек:"
   ]
  },
  {
   "cell_type": "code",
   "execution_count": null,
   "metadata": {
    "id": "wsrAvAqsyWg9",
    "outputId": "53b2351a-79fc-4012-d628-3cf9ab9cb87f"
   },
   "outputs": [
    {
     "name": "stdout",
     "output_type": "stream",
     "text": [
      "spam eggs\n",
      "doesn't\n",
      "doesn't\n",
      "\"Yes,\" he said.\n"
     ]
    }
   ],
   "source": [
    "print('spam eggs') \n",
    "print('doesn\\'t') \n",
    "print(\"doesn't\")\n",
    "print('\"Yes,\" he said.')"
   ]
  },
  {
   "cell_type": "markdown",
   "metadata": {
    "id": "NPF4kVTIyWg_"
   },
   "source": [
    "Строковые литералы могут занимать несколько строк. Один из способов сделать это — тройные кавычки: \"\"\"...\"\"\" или '''...'''. Концы строк автоматически включаются в строку, но возможно избежать этого добавлением \\ в конце строки. Следующий пример:"
   ]
  },
  {
   "cell_type": "code",
   "execution_count": null,
   "metadata": {
    "id": "FUhVPD4JyWhA",
    "outputId": "44c783bf-4a22-4c7d-de4b-ddee5b299d5e"
   },
   "outputs": [
    {
     "name": "stdout",
     "output_type": "stream",
     "text": [
      "\n",
      "Usage: thingy [OPTIONS]\n",
      "     -h                        Display this usage message\n",
      "     -H hostname               Hostname to connect to \n",
      "\n"
     ]
    }
   ],
   "source": [
    "print(\"\"\"\n",
    "Usage: thingy [OPTIONS]\n",
    "     -h                        Display this usage message\n",
    "     -H hostname               Hostname to connect to \n",
    "\"\"\")"
   ]
  },
  {
   "cell_type": "code",
   "execution_count": null,
   "metadata": {
    "id": "woZ7sZrSyWhE",
    "outputId": "7787afa0-afe4-4284-e47b-416d1b98af23"
   },
   "outputs": [
    {
     "name": "stdout",
     "output_type": "stream",
     "text": [
      "Usage: thingy [OPTIONS]\n",
      "     -h                        Display this usage message\n",
      "     -H hostname               Hostname to connect to \n"
     ]
    }
   ],
   "source": [
    "print(\"\"\"\\\n",
    "Usage: thingy [OPTIONS]\n",
    "     -h                        Display this usage message\n",
    "     -H hostname               Hostname to connect to \\\n",
    "\"\"\")"
   ]
  },
  {
   "cell_type": "markdown",
   "metadata": {
    "id": "dd62PpX5yWhG"
   },
   "source": [
    "Строки могут быть конкатенированы (соединены вместе) с помощью оператора +, и повторены с помощью *:"
   ]
  },
  {
   "cell_type": "code",
   "execution_count": null,
   "metadata": {
    "id": "A8Ua6pmjyWhH",
    "outputId": "3ddd9049-b79d-43d1-9f31-149d76b7ffdd"
   },
   "outputs": [
    {
     "data": {
      "text/plain": [
       "'unununium'"
      ]
     },
     "execution_count": 27,
     "metadata": {
      "tags": []
     },
     "output_type": "execute_result"
    }
   ],
   "source": [
    "3 * 'un' + 'ium'"
   ]
  },
  {
   "cell_type": "code",
   "execution_count": null,
   "metadata": {
    "id": "RAg1I0JAyWhK",
    "outputId": "b854346d-4233-4e40-82f7-7238303a6335"
   },
   "outputs": [
    {
     "name": "stdout",
     "output_type": "stream",
     "text": [
      "Hello, Vasya!\n",
      "a, b, c\n"
     ]
    }
   ],
   "source": [
    "print('Hello, {}!'.format('Vasya'))\n",
    "print('{0}, {1}, {2}'.format('a', 'b', 'c'))"
   ]
  },
  {
   "cell_type": "markdown",
   "metadata": {
    "id": "uWbkZKeAyWhN"
   },
   "source": [
    "### Модель данных"
   ]
  },
  {
   "cell_type": "markdown",
   "metadata": {
    "id": "IgbS9yxMyWhN"
   },
   "source": [
    "Часто можно услышать утверждение о том, что в питоне **все является объектом**. Утверждение верное, причем у каждого объекта есть:\n",
    "- сущность (identity);\n",
    "- тип (type);\n",
    "- значение (value).\n",
    "\n",
    "Сущность (identity) объекта не меняется после создания, можно думать о ней как об адресе в памяти компьютера.\n",
    "\n",
    "Например, если мы пишем: `a = 42` создается объект типа int со значением 42. Сущность (identity) объекта в таком случае - это его адрес в памяти, 'а' - имя указателя на этот адрес."
   ]
  },
  {
   "cell_type": "markdown",
   "metadata": {
    "id": "Dkoe7h3-yWhO"
   },
   "source": [
    "Для того, чтобы посмотреть на объект с каким идентификатором ссылается данная переменная, можно использовать функцию id()."
   ]
  },
  {
   "cell_type": "code",
   "execution_count": null,
   "metadata": {
    "id": "_SdL_7TvyWhO"
   },
   "outputs": [],
   "source": [
    "a = 4\n",
    "b = 4"
   ]
  },
  {
   "cell_type": "code",
   "execution_count": null,
   "metadata": {
    "id": "OCIQz5UPyWhR",
    "outputId": "61284459-6b76-42b6-8ccf-95b849bef47c"
   },
   "outputs": [
    {
     "data": {
      "text/plain": [
       "140712821625760"
      ]
     },
     "execution_count": 30,
     "metadata": {
      "tags": []
     },
     "output_type": "execute_result"
    }
   ],
   "source": [
    "id(a)"
   ]
  },
  {
   "cell_type": "code",
   "execution_count": null,
   "metadata": {
    "id": "rOLEEi1ayWhT",
    "outputId": "51e1aa22-414f-4c42-8450-23549c337af4"
   },
   "outputs": [
    {
     "data": {
      "text/plain": [
       "140712821625760"
      ]
     },
     "execution_count": 31,
     "metadata": {
      "tags": []
     },
     "output_type": "execute_result"
    }
   ],
   "source": [
    "id(b)"
   ]
  },
  {
   "cell_type": "code",
   "execution_count": null,
   "metadata": {
    "id": "RNtq2leOyWhV",
    "outputId": "5ffa8f63-8d2a-4c78-a6d1-dbb3d2074b70"
   },
   "outputs": [
    {
     "data": {
      "text/plain": [
       "True"
      ]
     },
     "execution_count": 32,
     "metadata": {
      "tags": []
     },
     "output_type": "execute_result"
    }
   ],
   "source": [
    "a is b"
   ]
  },
  {
   "cell_type": "code",
   "execution_count": null,
   "metadata": {
    "id": "-mN-y6fKyWhW",
    "outputId": "241cd568-dbcd-42f5-8100-b5a4e95b8a42"
   },
   "outputs": [
    {
     "data": {
      "text/plain": [
       "True"
      ]
     },
     "execution_count": 33,
     "metadata": {
      "tags": []
     },
     "output_type": "execute_result"
    }
   ],
   "source": [
    "a == b"
   ]
  },
  {
   "cell_type": "markdown",
   "metadata": {
    "id": "w2KU78-DyWhZ"
   },
   "source": [
    "Рассмотрим другой пример."
   ]
  },
  {
   "cell_type": "code",
   "execution_count": null,
   "metadata": {
    "id": "TUc5n7rtyWhb"
   },
   "outputs": [],
   "source": [
    "c = [1,2,3]\n",
    "d = [1,2,3]"
   ]
  },
  {
   "cell_type": "code",
   "execution_count": null,
   "metadata": {
    "id": "upCpgCctyWhg",
    "outputId": "43e16e7d-fd28-46e1-f789-9a23b3feaed5"
   },
   "outputs": [
    {
     "data": {
      "text/plain": [
       "2804835260360"
      ]
     },
     "execution_count": 35,
     "metadata": {
      "tags": []
     },
     "output_type": "execute_result"
    }
   ],
   "source": [
    "id(c)"
   ]
  },
  {
   "cell_type": "code",
   "execution_count": null,
   "metadata": {
    "id": "rEDbKNo0yWhi",
    "outputId": "5f0e34bc-df23-4683-a8f1-2efd7a2393ad"
   },
   "outputs": [
    {
     "data": {
      "text/plain": [
       "2804834815880"
      ]
     },
     "execution_count": 36,
     "metadata": {
      "tags": []
     },
     "output_type": "execute_result"
    }
   ],
   "source": [
    "id(d)"
   ]
  },
  {
   "cell_type": "code",
   "execution_count": null,
   "metadata": {
    "id": "Lx5KIuToyWhn",
    "outputId": "089ed0cc-3aa1-437e-89f4-f4dac2ab3f51"
   },
   "outputs": [
    {
     "data": {
      "text/plain": [
       "True"
      ]
     },
     "execution_count": 37,
     "metadata": {
      "tags": []
     },
     "output_type": "execute_result"
    }
   ],
   "source": [
    "c == d"
   ]
  },
  {
   "cell_type": "code",
   "execution_count": null,
   "metadata": {
    "id": "J-1P9I1fyWhp",
    "outputId": "b2bd1af9-4cc1-4b83-de73-cf2f8d9e0052"
   },
   "outputs": [
    {
     "data": {
      "text/plain": [
       "False"
      ]
     },
     "execution_count": 38,
     "metadata": {
      "tags": []
     },
     "output_type": "execute_result"
    }
   ],
   "source": [
    "c is d"
   ]
  },
  {
   "cell_type": "markdown",
   "metadata": {
    "id": "UG3ZVP6FyWhx"
   },
   "source": [
    "<img width = '350px' src=\"images/lesson_1/wat.jpg\">"
   ]
  },
  {
   "cell_type": "markdown",
   "metadata": {
    "id": "dO2O61LNyWhy"
   },
   "source": [
    "В Python существуют <B>изменяемые</B> и <B>неизменяемые</B> типы.\n",
    "\n",
    "К <B>неизменяемым</B> (immutable) типам относятся: целые числа (int),  числа с плавающей точкой (float), комплексные числа (complex), логические переменные (bool), кортежи (tuple), строки (str) и неизменяемые множества (frozen set).\n",
    "\n",
    "К <B>изменяемым</B> (mutable) типам относятся: списки (list), множества (set), словари (dict).\n",
    "\n",
    "При создании переменной, вначале создается объект, который имеет уникальный идентификатор, тип и значение, после этого переменная может ссылаться на созданный объект.\n",
    "\n",
    "Неизменяемость типа данных означает, что созданный объект больше не изменяется. "
   ]
  },
  {
   "cell_type": "markdown",
   "metadata": {
    "id": "WrozDWQvyWhz"
   },
   "source": [
    "Неизменяемые объекты передаются по *значению*. Это значит, что при изменении значения переменной будет создан новый объект.\n",
    "\n",
    "Изменяемые объекты передаются по *ссылке*. Это значит, что при изменении значения переменной объект будет изменен. "
   ]
  },
  {
   "cell_type": "code",
   "execution_count": 7,
   "metadata": {
    "colab": {
     "base_uri": "https://localhost:8080/",
     "height": 101
    },
    "executionInfo": {
     "elapsed": 657,
     "status": "ok",
     "timestamp": 1601484322020,
     "user": {
      "displayName": "Максим Иванов",
      "photoUrl": "",
      "userId": "13928116544814490129"
     },
     "user_tz": -180
    },
    "id": "4kk4cCnlyWh2",
    "outputId": "8d0f47d7-1ac9-4539-df15-0535a753332f"
   },
   "outputs": [
    {
     "name": "stdout",
     "output_type": "stream",
     "text": [
      "first call  10914624\n",
      "first call from function  10914624\n",
      "first call from function  10914720\n",
      "5\n",
      "second call  10914624\n"
     ]
    }
   ],
   "source": [
    "def updatenum(x):\n",
    "    print('first call from function ',id(x))\n",
    "    x += 3\n",
    "    print('first call from function ', id(x)) #тут уже новый объект\n",
    "\n",
    "a = 5\n",
    "print('first call ',id(a))\n",
    "\n",
    "updatenum(a)\n",
    "\n",
    "print(a) # 5\n",
    "print('second call ',id(a))"
   ]
  },
  {
   "cell_type": "code",
   "execution_count": 8,
   "metadata": {
    "colab": {
     "base_uri": "https://localhost:8080/",
     "height": 101
    },
    "executionInfo": {
     "elapsed": 700,
     "status": "ok",
     "timestamp": 1601484349469,
     "user": {
      "displayName": "Максим Иванов",
      "photoUrl": "",
      "userId": "13928116544814490129"
     },
     "user_tz": -180
    },
    "id": "R9TVdo6uyWh5",
    "outputId": "eb296838-0eed-4d75-ddd6-0fad712a34f5"
   },
   "outputs": [
    {
     "name": "stdout",
     "output_type": "stream",
     "text": [
      "first call  140079308357960\n",
      "first call from function  140079308357960\n",
      "first call from function  140079308357960\n",
      "[1, 2, 3, 4]\n",
      "second call  140079308357960\n"
     ]
    }
   ],
   "source": [
    "def updatenum(x):\n",
    "    print('first call from function ',id(x))\n",
    "    x.append(4)\n",
    "    print('first call from function ', id(x)) #тут уже новый объект\n",
    "\n",
    "a = [1,2,3]\n",
    "print('first call ',id(a))\n",
    "\n",
    "updatenum(a)\n",
    "\n",
    "print(a) # 5\n",
    "print('second call ',id(a))"
   ]
  },
  {
   "cell_type": "markdown",
   "metadata": {
    "id": "WQIsnXBPyWh9"
   },
   "source": [
    "Более подробно про типы данных можно прочитать https://docs.python.org/3/library/stdtypes.html"
   ]
  },
  {
   "cell_type": "markdown",
   "metadata": {
    "id": "1H37t43qyWh_"
   },
   "source": [
    "### Условные операторы "
   ]
  },
  {
   "cell_type": "code",
   "execution_count": null,
   "metadata": {
    "id": "AZb7iAc4yWh_",
    "outputId": "82166f60-bbc1-4ec6-c808-06f84e09f933"
   },
   "outputs": [
    {
     "name": "stdout",
     "output_type": "stream",
     "text": [
      "L\n"
     ]
    }
   ],
   "source": [
    "a = 1\n",
    "if a > 2:\n",
    "   print(\"H\")\n",
    "else:\n",
    "   print(\"L\")"
   ]
  },
  {
   "cell_type": "code",
   "execution_count": null,
   "metadata": {
    "id": "g2Qh6WDgyWiE",
    "outputId": "8a08ae45-9b94-4709-a35d-be310e0789d1"
   },
   "outputs": [
    {
     "name": "stdout",
     "output_type": "stream",
     "text": [
      "введите число:12\n",
      "Pos\n"
     ]
    }
   ],
   "source": [
    "a = int(input(\"введите число:\"))\n",
    "if a < 0:\n",
    "   print(\"Neg\")\n",
    "elif a == 0:\n",
    "   print(\"Zero\")\n",
    "else:\n",
    "   print(\"Pos\")"
   ]
  },
  {
   "cell_type": "markdown",
   "metadata": {
    "id": "kMW3EAsryWiG"
   },
   "source": [
    "### Операторы цикла"
   ]
  },
  {
   "cell_type": "markdown",
   "metadata": {
    "id": "Hi1dmhkxyWiH"
   },
   "source": [
    "Оператор цикла while  выполняет указанный набор инструкций до тех пор, пока условие цикла истинно."
   ]
  },
  {
   "cell_type": "code",
   "execution_count": null,
   "metadata": {
    "id": "r4igwO4GyWiI",
    "outputId": "b493bef9-7dce-46d4-dba2-4c227037278e"
   },
   "outputs": [
    {
     "name": "stdout",
     "output_type": "stream",
     "text": [
      "A\n",
      "A\n",
      "A\n"
     ]
    }
   ],
   "source": [
    "a = 0\n",
    "while a < 3:\n",
    "   print(\"A\")\n",
    "   a += 1"
   ]
  },
  {
   "cell_type": "markdown",
   "metadata": {
    "id": "NXTt2chmyWiK"
   },
   "source": [
    "Оператор <B>break</B> предназначен для досрочного прерывания работы цикла while."
   ]
  },
  {
   "cell_type": "code",
   "execution_count": null,
   "metadata": {
    "id": "11MekKanyWiL",
    "outputId": "4597c413-dcbe-4263-bd4d-b8d5c66ea73e"
   },
   "outputs": [
    {
     "name": "stdout",
     "output_type": "stream",
     "text": [
      "A\n",
      "A\n",
      "A\n"
     ]
    }
   ],
   "source": [
    "a = 0\n",
    "while a >= 0:\n",
    "   if a == 3:\n",
    "       break\n",
    "   a += 1\n",
    "   print(\"A\")"
   ]
  },
  {
   "cell_type": "markdown",
   "metadata": {
    "id": "sAR5_QNRyWiP"
   },
   "source": [
    "Оператор <B>continue</B>  запускает цикл заново, при этом код, расположенный после данного оператора, не выполняется."
   ]
  },
  {
   "cell_type": "code",
   "execution_count": null,
   "metadata": {
    "id": "eZ0yyFlKyWiQ",
    "outputId": "248e8c38-5be7-4558-80eb-099fa43547bb"
   },
   "outputs": [
    {
     "name": "stdout",
     "output_type": "stream",
     "text": [
      "A\n",
      "A\n",
      "A\n",
      "A\n",
      "A\n",
      "A\n",
      "A\n"
     ]
    }
   ],
   "source": [
    "a = -1\n",
    "while a < 10:\n",
    "   a += 1\n",
    "   if a >= 7:\n",
    "       continue\n",
    "   print(\"A\")"
   ]
  },
  {
   "cell_type": "markdown",
   "metadata": {
    "id": "jk3UKjU1yWiT"
   },
   "source": [
    "Оператор <B>for</B>  выполняет указанный набор инструкций заданное количество раз, которое определяется количеством элементов в наборе."
   ]
  },
  {
   "cell_type": "code",
   "execution_count": null,
   "metadata": {
    "id": "3CQk5fr3yWiT",
    "outputId": "28beb4dd-3ca3-4095-a9ff-9caf9e94fafc"
   },
   "outputs": [
    {
     "name": "stdout",
     "output_type": "stream",
     "text": [
      "Hello\n",
      "0\n",
      "Hello\n",
      "1\n",
      "Hello\n",
      "2\n",
      "Hello\n",
      "3\n",
      "Hello\n",
      "4\n",
      "Hello\n",
      "5\n",
      "Hello\n",
      "6\n",
      "Hello\n",
      "7\n",
      "Hello\n",
      "8\n",
      "Hello\n",
      "9\n"
     ]
    }
   ],
   "source": [
    "for i in range(10):\n",
    "    print(\"Hello\")\n",
    "    print(i)"
   ]
  },
  {
   "cell_type": "markdown",
   "metadata": {
    "id": "a5ImE7FZyWiZ"
   },
   "source": [
    "### Списки"
   ]
  },
  {
   "cell_type": "markdown",
   "metadata": {
    "id": "j4Z8NgCUyWie"
   },
   "source": [
    "Список (list) – это структура данных для хранения объектов различных типов. Размер списка не статичен, его можно изменять. Список по своей природе является изменяемым типом данных. \n",
    "\n",
    " При его создании в памяти резервируется область, которую можно условно назвать некоторым “контейнером”, в котором хранятся ссылки на другие элементы данных в памяти. В отличии от таких типов данных как число или строка, содержимое “контейнера” списка можно менять."
   ]
  },
  {
   "cell_type": "markdown",
   "metadata": {
    "id": "W9yXIJOyyWig"
   },
   "source": [
    " <img height = '200px' src=\"images/lesson_1/python-lesson3-2-1.png\">"
   ]
  },
  {
   "cell_type": "code",
   "execution_count": 9,
   "metadata": {
    "executionInfo": {
     "elapsed": 679,
     "status": "ok",
     "timestamp": 1601484643710,
     "user": {
      "displayName": "Максим Иванов",
      "photoUrl": "",
      "userId": "13928116544814490129"
     },
     "user_tz": -180
    },
    "id": "-bSCJngCyWig"
   },
   "outputs": [],
   "source": [
    "a = []\n",
    "b = list()\n",
    "с = [1, 2, 3]"
   ]
  },
  {
   "cell_type": "code",
   "execution_count": 10,
   "metadata": {
    "colab": {
     "base_uri": "https://localhost:8080/",
     "height": 50
    },
    "executionInfo": {
     "elapsed": 800,
     "status": "ok",
     "timestamp": 1601484647786,
     "user": {
      "displayName": "Максим Иванов",
      "photoUrl": "",
      "userId": "13928116544814490129"
     },
     "user_tz": -180
    },
    "id": "QWXV1ChiyWii",
    "outputId": "41a756cc-68f6-48f0-ebe4-d001f3c7d38b"
   },
   "outputs": [
    {
     "name": "stdout",
     "output_type": "stream",
     "text": [
      "[1, 10, 5, 15]\n",
      "[1, 10, 5, 15]\n"
     ]
    }
   ],
   "source": [
    "a = [1, 3, 5, 7]\n",
    "b = a\n",
    "b[3] = 15\n",
    "a[1] = 10\n",
    "print(a)\n",
    "print(b)"
   ]
  },
  {
   "cell_type": "code",
   "execution_count": 11,
   "metadata": {
    "colab": {
     "base_uri": "https://localhost:8080/",
     "height": 34
    },
    "executionInfo": {
     "elapsed": 667,
     "status": "ok",
     "timestamp": 1601484659887,
     "user": {
      "displayName": "Максим Иванов",
      "photoUrl": "",
      "userId": "13928116544814490129"
     },
     "user_tz": -180
    },
    "id": "A8QQHAWVyWil",
    "outputId": "404c8681-ef3e-4de8-9ba0-53d6a40fb902"
   },
   "outputs": [
    {
     "data": {
      "text/plain": [
       "[3, 3, 'hello']"
      ]
     },
     "execution_count": 11,
     "metadata": {
      "tags": []
     },
     "output_type": "execute_result"
    }
   ],
   "source": [
    "#Добавление элементов в список\n",
    "a = []\n",
    "a.append(3)\n",
    "a.append(3)\n",
    "a.append(\"hello\")\n",
    "a"
   ]
  },
  {
   "cell_type": "code",
   "execution_count": 12,
   "metadata": {
    "colab": {
     "base_uri": "https://localhost:8080/",
     "height": 50
    },
    "executionInfo": {
     "elapsed": 716,
     "status": "ok",
     "timestamp": 1601484664142,
     "user": {
      "displayName": "Максим Иванов",
      "photoUrl": "",
      "userId": "13928116544814490129"
     },
     "user_tz": -180
    },
    "id": "PLxxOhSeyWip",
    "outputId": "01ffc9db-a965-40ee-fd24-c775dc47a0f4"
   },
   "outputs": [
    {
     "name": "stdout",
     "output_type": "stream",
     "text": [
      "[3, 'hello']\n",
      "['hello']\n"
     ]
    }
   ],
   "source": [
    "#Удаление элементов\n",
    "a.remove(3)\n",
    "print(a)\n",
    "del a[0]\n",
    "print(a)"
   ]
  },
  {
   "cell_type": "code",
   "execution_count": 13,
   "metadata": {
    "colab": {
     "base_uri": "https://localhost:8080/",
     "height": 67
    },
    "executionInfo": {
     "elapsed": 658,
     "status": "ok",
     "timestamp": 1601484682258,
     "user": {
      "displayName": "Максим Иванов",
      "photoUrl": "",
      "userId": "13928116544814490129"
     },
     "user_tz": -180
    },
    "id": "2NHVeTtnyWis",
    "outputId": "bccb6cbc-398e-4fe4-de6b-0d01d6ce8d8b"
   },
   "outputs": [
    {
     "name": "stdout",
     "output_type": "stream",
     "text": [
      "7\n",
      "0\n",
      "[5, 7, 10]\n"
     ]
    }
   ],
   "source": [
    "#Доступ к элементам списка\n",
    "a = [3, 5, 7, 10, 3, 2, 6, 0]\n",
    "print(a[2])\n",
    "print(a[-1])\n",
    "print(a[1:4])"
   ]
  },
  {
   "cell_type": "code",
   "execution_count": 14,
   "metadata": {
    "colab": {
     "base_uri": "https://localhost:8080/",
     "height": 50
    },
    "executionInfo": {
     "elapsed": 691,
     "status": "ok",
     "timestamp": 1601484720948,
     "user": {
      "displayName": "Максим Иванов",
      "photoUrl": "",
      "userId": "13928116544814490129"
     },
     "user_tz": -180
    },
    "id": "MQwjE-ppyWiu",
    "outputId": "02ea68f8-de54-4ee6-f113-2de93aa5f05d"
   },
   "outputs": [
    {
     "name": "stdout",
     "output_type": "stream",
     "text": [
      "[1, 2, 3]\n",
      "[1, 2, [3, 4]]\n"
     ]
    }
   ],
   "source": [
    "#Методы списков \n",
    "#Для удобного воспроизведения есть шорткат ctrl+shift+-\n",
    "a = [1, 2]\n",
    "a.append(3)\n",
    "print(a)\n",
    "\n",
    "a = [1, 2]\n",
    "b = [3, 4]\n",
    "a.append(b)\n",
    "print(a)"
   ]
  },
  {
   "cell_type": "code",
   "execution_count": 15,
   "metadata": {
    "colab": {
     "base_uri": "https://localhost:8080/",
     "height": 34
    },
    "executionInfo": {
     "elapsed": 680,
     "status": "ok",
     "timestamp": 1601484737923,
     "user": {
      "displayName": "Максим Иванов",
      "photoUrl": "",
      "userId": "13928116544814490129"
     },
     "user_tz": -180
    },
    "id": "HygkoI3SyWiy",
    "outputId": "a3c42f85-08b6-485b-a4a4-d438db7809ca"
   },
   "outputs": [
    {
     "name": "stdout",
     "output_type": "stream",
     "text": [
      "[1, 2, 3, 4]\n"
     ]
    }
   ],
   "source": [
    "a = [1, 2]\n",
    "b = [3, 4]\n",
    "a.extend(b)\n",
    "print(a)"
   ]
  },
  {
   "cell_type": "code",
   "execution_count": 16,
   "metadata": {
    "colab": {
     "base_uri": "https://localhost:8080/",
     "height": 34
    },
    "executionInfo": {
     "elapsed": 716,
     "status": "ok",
     "timestamp": 1601484741958,
     "user": {
      "displayName": "Максим Иванов",
      "photoUrl": "",
      "userId": "13928116544814490129"
     },
     "user_tz": -180
    },
    "id": "1pWr38dDyWi0",
    "outputId": "c8d8b1d6-54d3-44c4-d0e5-6a9f28de87d9"
   },
   "outputs": [
    {
     "name": "stdout",
     "output_type": "stream",
     "text": [
      "[5, 1, 2]\n"
     ]
    }
   ],
   "source": [
    "a = [1, 2]\n",
    "a.insert(0, 5)\n",
    "print(a)"
   ]
  },
  {
   "cell_type": "code",
   "execution_count": 17,
   "metadata": {
    "colab": {
     "base_uri": "https://localhost:8080/",
     "height": 34
    },
    "executionInfo": {
     "elapsed": 612,
     "status": "ok",
     "timestamp": 1601484745357,
     "user": {
      "displayName": "Максим Иванов",
      "photoUrl": "",
      "userId": "13928116544814490129"
     },
     "user_tz": -180
    },
    "id": "QG3GXcUeyWi2",
    "outputId": "aac98fa0-bd20-4b92-ad43-b55405e8e17e"
   },
   "outputs": [
    {
     "name": "stdout",
     "output_type": "stream",
     "text": [
      "[2, 3]\n"
     ]
    }
   ],
   "source": [
    "a = [1, 2, 3]\n",
    "a.remove(1)\n",
    "print(a)"
   ]
  },
  {
   "cell_type": "code",
   "execution_count": 21,
   "metadata": {
    "colab": {
     "base_uri": "https://localhost:8080/",
     "height": 151
    },
    "executionInfo": {
     "elapsed": 666,
     "status": "ok",
     "timestamp": 1601484872806,
     "user": {
      "displayName": "Максим Иванов",
      "photoUrl": "",
      "userId": "13928116544814490129"
     },
     "user_tz": -180
    },
    "id": "bUT9ZaNbyWi4",
    "outputId": "5fe71ddb-a67e-410d-c7c9-800bf6627fde"
   },
   "outputs": [
    {
     "name": "stdout",
     "output_type": "stream",
     "text": [
      "3\n",
      "5\n",
      "[1, 2, 4]\n",
      "[]\n",
      "3\n",
      "1\n",
      "[1, 2, 3, 4, 5]\n",
      "[5, 4, 3, 2, 1]\n"
     ]
    }
   ],
   "source": [
    "a = [1, 2, 3, 4, 5]\n",
    "print(a.pop(2))\n",
    "print(a.pop())\n",
    "print(a)\n",
    "\n",
    "a.clear()\n",
    "print(a)\n",
    "\n",
    "a = [1, 2, 3, 4, 5]\n",
    "print(a.index(4))\n",
    "\n",
    "print(a.count(2))\n",
    "\n",
    "a.sort()\n",
    "print(a)\n",
    "\n",
    "a.reverse()\n",
    "print(a)"
   ]
  },
  {
   "cell_type": "markdown",
   "metadata": {
    "id": "-j1AO9SLyWi6"
   },
   "source": [
    "### Абстракция списков"
   ]
  },
  {
   "cell_type": "code",
   "execution_count": null,
   "metadata": {
    "id": "I_UPP19yyWi6",
    "outputId": "8ad1a2cd-45c4-44c9-ca75-b4eed12506ae"
   },
   "outputs": [
    {
     "name": "stdout",
     "output_type": "stream",
     "text": [
      "12\n",
      "[0, 1, 2, 3, 4, 5, 6, 7, 8, 9, 10, 11]\n"
     ]
    }
   ],
   "source": [
    "n = int(input())\n",
    "a = []\n",
    "for i in range(n):\n",
    "    a.append(i)\n",
    "print(a)"
   ]
  },
  {
   "cell_type": "code",
   "execution_count": null,
   "metadata": {
    "id": "Z3roVplRyWi8",
    "outputId": "79868a80-b680-4eb8-f636-f3fd4d5d36fd"
   },
   "outputs": [
    {
     "name": "stdout",
     "output_type": "stream",
     "text": [
      "12\n"
     ]
    },
    {
     "data": {
      "text/plain": [
       "[0, 1, 2, 3, 4, 5, 6, 7, 8, 9, 10, 11]"
      ]
     },
     "execution_count": 92,
     "metadata": {
      "tags": []
     },
     "output_type": "execute_result"
    }
   ],
   "source": [
    "[i for i in range(int(input()))]"
   ]
  },
  {
   "cell_type": "markdown",
   "metadata": {
    "id": "dpGnw6hlyWi9"
   },
   "source": [
    "### Кортеж"
   ]
  },
  {
   "cell_type": "markdown",
   "metadata": {
    "id": "NSTxTfESyWi-"
   },
   "source": [
    "Кортеж (tuple) – это неизменяемая структура данных, которая по своему подобию очень похожа на список. "
   ]
  },
  {
   "cell_type": "code",
   "execution_count": null,
   "metadata": {
    "id": "3-M9oFq3yWi-",
    "outputId": "a8e6b678-112b-43da-9d56-432f95b1fa02"
   },
   "outputs": [
    {
     "name": "stdout",
     "output_type": "stream",
     "text": [
      "(1, 2, 3)\n"
     ]
    },
    {
     "ename": "TypeError",
     "evalue": "'tuple' object does not support item assignment",
     "output_type": "error",
     "traceback": [
      "\u001b[1;31m---------------------------------------------------------------------------\u001b[0m",
      "\u001b[1;31mTypeError\u001b[0m                                 Traceback (most recent call last)",
      "\u001b[1;32m<ipython-input-98-adce8295f488>\u001b[0m in \u001b[0;36m<module>\u001b[1;34m\u001b[0m\n\u001b[0;32m      2\u001b[0m \u001b[0mprint\u001b[0m\u001b[1;33m(\u001b[0m\u001b[0mb\u001b[0m\u001b[1;33m)\u001b[0m\u001b[1;33m\u001b[0m\u001b[1;33m\u001b[0m\u001b[0m\n\u001b[0;32m      3\u001b[0m \u001b[1;33m\u001b[0m\u001b[0m\n\u001b[1;32m----> 4\u001b[1;33m \u001b[0mb\u001b[0m\u001b[1;33m[\u001b[0m\u001b[1;36m1\u001b[0m\u001b[1;33m]\u001b[0m \u001b[1;33m=\u001b[0m \u001b[1;36m15\u001b[0m\u001b[1;33m\u001b[0m\u001b[1;33m\u001b[0m\u001b[0m\n\u001b[0m",
      "\u001b[1;31mTypeError\u001b[0m: 'tuple' object does not support item assignment"
     ]
    }
   ],
   "source": [
    "b = (1, 2, 3)\n",
    "print(b)\n",
    "\n",
    "b[1] = 15"
   ]
  },
  {
   "cell_type": "markdown",
   "metadata": {
    "id": "K5ufdU04yWjC"
   },
   "source": [
    "Существует несколько причин, по которым стоит использовать кортежи вместо списков.\n",
    "\n",
    "- Одна из них – это обезопасить данные от случайного изменения.\n",
    "- Во-вторых – прирост производительности, который связан с тем, что кортежи работают быстрее, чем списки (т.е. на операции перебора элементов и т.п. будет тратиться меньше времени). Важно также отметить, что кортежи можно использовать в качестве ключа у словаря."
   ]
  },
  {
   "cell_type": "code",
   "execution_count": null,
   "metadata": {
    "id": "xlLTZqJLyWjD",
    "outputId": "17649fae-09f9-4ea9-c16a-0eb7f3a3f8da"
   },
   "outputs": [
    {
     "data": {
      "text/plain": [
       "([1, 2], 2, 3, 4, 5)"
      ]
     },
     "execution_count": 110,
     "metadata": {
      "tags": []
     },
     "output_type": "execute_result"
    }
   ],
   "source": [
    "a = tuple()\n",
    "b = ()\n",
    "c = tuple([1, 2, 3])\n",
    "d = ([1], 2, 3, 4, 5)\n",
    "d[0].append(2)\n",
    "d"
   ]
  },
  {
   "cell_type": "code",
   "execution_count": 22,
   "metadata": {
    "colab": {
     "base_uri": "https://localhost:8080/",
     "height": 34
    },
    "executionInfo": {
     "elapsed": 634,
     "status": "ok",
     "timestamp": 1601484968925,
     "user": {
      "displayName": "Максим Иванов",
      "photoUrl": "",
      "userId": "13928116544814490129"
     },
     "user_tz": -180
    },
    "id": "B_SUU-oiyWjE",
    "outputId": "6aaa462c-0151-4d88-bbd5-92cd8049acf5"
   },
   "outputs": [
    {
     "data": {
      "text/plain": [
       "140079308612976"
      ]
     },
     "execution_count": 22,
     "metadata": {
      "tags": []
     },
     "output_type": "execute_result"
    }
   ],
   "source": [
    "d = ([1], 2, 3, 4, 5)\n",
    "id(d)"
   ]
  },
  {
   "cell_type": "code",
   "execution_count": 23,
   "metadata": {
    "colab": {
     "base_uri": "https://localhost:8080/",
     "height": 34
    },
    "executionInfo": {
     "elapsed": 677,
     "status": "ok",
     "timestamp": 1601484971159,
     "user": {
      "displayName": "Максим Иванов",
      "photoUrl": "",
      "userId": "13928116544814490129"
     },
     "user_tz": -180
    },
    "id": "C6NI0DjXyWjG",
    "outputId": "a86be3f8-9ee7-476c-9808-ca61e09a5872"
   },
   "outputs": [
    {
     "data": {
      "text/plain": [
       "([1, 2], 2, 3, 4, 5)"
      ]
     },
     "execution_count": 23,
     "metadata": {
      "tags": []
     },
     "output_type": "execute_result"
    }
   ],
   "source": [
    "d[0].append(2)\n",
    "d"
   ]
  },
  {
   "cell_type": "code",
   "execution_count": 24,
   "metadata": {
    "colab": {
     "base_uri": "https://localhost:8080/",
     "height": 34
    },
    "executionInfo": {
     "elapsed": 397,
     "status": "ok",
     "timestamp": 1601484972149,
     "user": {
      "displayName": "Максим Иванов",
      "photoUrl": "",
      "userId": "13928116544814490129"
     },
     "user_tz": -180
    },
    "id": "dgUqkrCgyWjH",
    "outputId": "13f825d2-8dcb-4cc0-e47b-acf37c90b864"
   },
   "outputs": [
    {
     "data": {
      "text/plain": [
       "140079308612976"
      ]
     },
     "execution_count": 24,
     "metadata": {
      "tags": []
     },
     "output_type": "execute_result"
    }
   ],
   "source": [
    "id(d)"
   ]
  },
  {
   "cell_type": "markdown",
   "metadata": {
    "id": "bmXJq3sCyWjJ"
   },
   "source": [
    "Используется для хранения данных вместо списка (если они не предполагают изменений)."
   ]
  },
  {
   "cell_type": "markdown",
   "metadata": {
    "id": "lCABIB4OyWjJ"
   },
   "source": [
    "### Множества"
   ]
  },
  {
   "cell_type": "markdown",
   "metadata": {
    "id": "J6cYNcxUyWjJ"
   },
   "source": [
    "Множество (set) - это набор уникальных элементов в случайном порядке (неупорядоченный список). "
   ]
  },
  {
   "cell_type": "code",
   "execution_count": 25,
   "metadata": {
    "executionInfo": {
     "elapsed": 634,
     "status": "ok",
     "timestamp": 1601485014136,
     "user": {
      "displayName": "Максим Иванов",
      "photoUrl": "",
      "userId": "13928116544814490129"
     },
     "user_tz": -180
    },
    "id": "LoH7_8SFyWjK"
   },
   "outputs": [],
   "source": [
    "my_set = set()\n",
    "my_set = {1, 2, 3, 4, 5}\n",
    "my_set2 = (({5, 6, 7, 8}))\n",
    "my_set3 = set(\"hello world\")"
   ]
  },
  {
   "cell_type": "code",
   "execution_count": 26,
   "metadata": {
    "colab": {
     "base_uri": "https://localhost:8080/",
     "height": 34
    },
    "executionInfo": {
     "elapsed": 617,
     "status": "ok",
     "timestamp": 1601485016710,
     "user": {
      "displayName": "Максим Иванов",
      "photoUrl": "",
      "userId": "13928116544814490129"
     },
     "user_tz": -180
    },
    "id": "g2GwFnQPyWjL",
    "outputId": "8973dd3d-276d-4591-8c61-97cf02d36e20"
   },
   "outputs": [
    {
     "data": {
      "text/plain": [
       "{' ', 'd', 'e', 'h', 'l', 'o', 'r', 'w'}"
      ]
     },
     "execution_count": 26,
     "metadata": {
      "tags": []
     },
     "output_type": "execute_result"
    }
   ],
   "source": [
    "my_set3"
   ]
  },
  {
   "cell_type": "code",
   "execution_count": 27,
   "metadata": {
    "colab": {
     "base_uri": "https://localhost:8080/",
     "height": 34
    },
    "executionInfo": {
     "elapsed": 635,
     "status": "ok",
     "timestamp": 1601485024117,
     "user": {
      "displayName": "Максим Иванов",
      "photoUrl": "",
      "userId": "13928116544814490129"
     },
     "user_tz": -180
    },
    "id": "V0TXrlHWyWjM",
    "outputId": "c3b891b6-861a-4298-dd8c-073f9dc2568f"
   },
   "outputs": [
    {
     "data": {
      "text/plain": [
       "{5}"
      ]
     },
     "execution_count": 27,
     "metadata": {
      "tags": []
     },
     "output_type": "execute_result"
    }
   ],
   "source": [
    "my_set & my_set2"
   ]
  },
  {
   "cell_type": "code",
   "execution_count": 28,
   "metadata": {
    "colab": {
     "base_uri": "https://localhost:8080/",
     "height": 34
    },
    "executionInfo": {
     "elapsed": 640,
     "status": "ok",
     "timestamp": 1601485031177,
     "user": {
      "displayName": "Максим Иванов",
      "photoUrl": "",
      "userId": "13928116544814490129"
     },
     "user_tz": -180
    },
    "id": "VsCPhIB3yWjS",
    "outputId": "8c3e9fa0-56e6-4e45-90aa-0ddb63522fb7"
   },
   "outputs": [
    {
     "data": {
      "text/plain": [
       "{1, 2, 3, 4, 6, 7, 8}"
      ]
     },
     "execution_count": 28,
     "metadata": {
      "tags": []
     },
     "output_type": "execute_result"
    }
   ],
   "source": [
    "my_set ^ my_set2"
   ]
  },
  {
   "cell_type": "code",
   "execution_count": 29,
   "metadata": {
    "colab": {
     "base_uri": "https://localhost:8080/",
     "height": 34
    },
    "executionInfo": {
     "elapsed": 737,
     "status": "ok",
     "timestamp": 1601485037608,
     "user": {
      "displayName": "Максим Иванов",
      "photoUrl": "",
      "userId": "13928116544814490129"
     },
     "user_tz": -180
    },
    "id": "mrn7ZXSByWjU",
    "outputId": "ae31aa6d-d041-4cf3-eb31-d22459c3d3c9"
   },
   "outputs": [
    {
     "data": {
      "text/plain": [
       "{1, 2, 3, 4, 5, 6, 7, 8}"
      ]
     },
     "execution_count": 29,
     "metadata": {
      "tags": []
     },
     "output_type": "execute_result"
    }
   ],
   "source": [
    "my_set | my_set2"
   ]
  },
  {
   "cell_type": "markdown",
   "metadata": {
    "id": "Th1KENXJyWjW"
   },
   "source": [
    "Используется, когда необходимо проверять принадлежит ли значение набору уникальных элементов и отсутствует необходимость поддерживать порядок в данном наборе."
   ]
  },
  {
   "cell_type": "markdown",
   "metadata": {
    "id": "4Me71YbWyWjW"
   },
   "source": [
    "### Словари"
   ]
  },
  {
   "cell_type": "markdown",
   "metadata": {
    "id": "kdqwu_8zyWjX"
   },
   "source": [
    "Словарь (dict) представляет собой структуру данных (которая ещё называется ассоциативный массив), предназначенную для хранения произвольных объектов с доступом по ключу. Данные в словаре хранятся в формате ключ – значение."
   ]
  },
  {
   "cell_type": "code",
   "execution_count": 30,
   "metadata": {
    "executionInfo": {
     "elapsed": 657,
     "status": "ok",
     "timestamp": 1601485060765,
     "user": {
      "displayName": "Максим Иванов",
      "photoUrl": "",
      "userId": "13928116544814490129"
     },
     "user_tz": -180
    },
    "id": "WnvlgmkkyWjX"
   },
   "outputs": [],
   "source": [
    "d1 = dict()\n",
    "d2 = {}\n",
    "d3 = dict(Ivan=\"manager\", Mark=\"worker\")"
   ]
  },
  {
   "cell_type": "code",
   "execution_count": 31,
   "metadata": {
    "colab": {
     "base_uri": "https://localhost:8080/",
     "height": 34
    },
    "executionInfo": {
     "elapsed": 680,
     "status": "ok",
     "timestamp": 1601485065269,
     "user": {
      "displayName": "Максим Иванов",
      "photoUrl": "",
      "userId": "13928116544814490129"
     },
     "user_tz": -180
    },
    "id": "8dxcCKCByWja",
    "outputId": "c6c06203-058a-4a6b-cf3b-4bf957b5f46d"
   },
   "outputs": [
    {
     "data": {
      "text/plain": [
       "{'China': 'Beijing', 'Russia': 'Moscow', 'USA': 'Washington'}"
      ]
     },
     "execution_count": 31,
     "metadata": {
      "tags": []
     },
     "output_type": "execute_result"
    }
   ],
   "source": [
    "d1 = {\"Russia\":\"Moscow\", \"USA\":\"Washington\"}\n",
    "d1[\"China\"]=\"Beijing\"\n",
    "d1"
   ]
  },
  {
   "cell_type": "code",
   "execution_count": 32,
   "metadata": {
    "colab": {
     "base_uri": "https://localhost:8080/",
     "height": 34
    },
    "executionInfo": {
     "elapsed": 735,
     "status": "ok",
     "timestamp": 1601485077337,
     "user": {
      "displayName": "Максим Иванов",
      "photoUrl": "",
      "userId": "13928116544814490129"
     },
     "user_tz": -180
    },
    "id": "0fCuUa4OyWjc",
    "outputId": "c38a4dfe-ceb7-4aa6-98ce-11bfde9b518a"
   },
   "outputs": [
    {
     "data": {
      "text/plain": [
       "dict_items([('Russia', 'Moscow'), ('USA', 'Washington'), ('China', 'Beijing')])"
      ]
     },
     "execution_count": 32,
     "metadata": {
      "tags": []
     },
     "output_type": "execute_result"
    }
   ],
   "source": [
    "d1.items()"
   ]
  },
  {
   "cell_type": "code",
   "execution_count": 33,
   "metadata": {
    "executionInfo": {
     "elapsed": 693,
     "status": "ok",
     "timestamp": 1601485080442,
     "user": {
      "displayName": "Максим Иванов",
      "photoUrl": "",
      "userId": "13928116544814490129"
     },
     "user_tz": -180
    },
    "id": "PeugxECbyWjd"
   },
   "outputs": [],
   "source": [
    "del d1[\"China\"]"
   ]
  },
  {
   "cell_type": "code",
   "execution_count": 35,
   "metadata": {
    "colab": {
     "base_uri": "https://localhost:8080/",
     "height": 185
    },
    "executionInfo": {
     "elapsed": 710,
     "status": "ok",
     "timestamp": 1601485128375,
     "user": {
      "displayName": "Максим Иванов",
      "photoUrl": "",
      "userId": "13928116544814490129"
     },
     "user_tz": -180
    },
    "id": "jYcbNYHeyWjf",
    "outputId": "333daf3f-bc87-4069-b7a3-78fea355c30d"
   },
   "outputs": [
    {
     "name": "stdout",
     "output_type": "stream",
     "text": [
      "{}\n",
      "123\n",
      "dict_items([('A1', '123'), ('A2', '456')])\n",
      "dict_keys(['A1', 'A2'])\n",
      "dict_values(['123', '456'])\n",
      "456\n",
      "{'A1': '123'}\n",
      "('A1', '123')\n",
      "{}\n",
      "{'A1': '123', 'A2': '456'}\n"
     ]
    }
   ],
   "source": [
    "#Методы словарей\n",
    "d2 = {\"A1\":\"123\", \"A2\":\"456\"}\n",
    "d2.clear()\n",
    "print(d2)\n",
    "\n",
    "d2 = {\"A1\":\"123\", \"A2\":\"456\"}\n",
    "d3 = d2.copy()\n",
    "\n",
    "print(d3.get(\"A1\"))\n",
    "\n",
    "print(d3.items())\n",
    "\n",
    "print(d3.keys())\n",
    "\n",
    "print(d3.values())\n",
    "\n",
    "print(d3.pop(\"A2\"))\n",
    "print(d3)\n",
    "\n",
    "print(d3.popitem())\n",
    "print(d3)\n",
    "\n",
    "print(d2)"
   ]
  },
  {
   "cell_type": "markdown",
   "metadata": {
    "id": "Rwc57JoCyWjj"
   },
   "source": [
    "### Немного про функции"
   ]
  },
  {
   "cell_type": "markdown",
   "metadata": {
    "id": "okIzJcYhyWjj"
   },
   "source": [
    "Функция в python - объект, принимающий аргументы и возвращающий значение. Обычно функция определяется с помощью инструкции **def**."
   ]
  },
  {
   "cell_type": "code",
   "execution_count": null,
   "metadata": {
    "id": "br7e8RXOyWjk"
   },
   "outputs": [],
   "source": [
    "def add(x, y):\n",
    "    #     pass\n",
    "    return x + y"
   ]
  },
  {
   "cell_type": "code",
   "execution_count": null,
   "metadata": {
    "id": "OIKcWSHmyWjm",
    "outputId": "d0fa61be-d613-4cbf-807f-49db842d7ed2"
   },
   "outputs": [
    {
     "data": {
      "text/plain": [
       "11"
      ]
     },
     "execution_count": 41,
     "metadata": {
      "tags": []
     },
     "output_type": "execute_result"
    }
   ],
   "source": [
    "add(5, 6)"
   ]
  },
  {
   "cell_type": "code",
   "execution_count": null,
   "metadata": {
    "id": "vt8z8LvyyWjp"
   },
   "outputs": [],
   "source": [
    "def func(a, b, c=2):  # c - необязательный аргумент\n",
    "    return a + b + c"
   ]
  },
  {
   "cell_type": "code",
   "execution_count": null,
   "metadata": {
    "id": "J9b7tUV3yWjr",
    "outputId": "12ac5b96-b2ef-44ee-c06d-1f56c60dc20a"
   },
   "outputs": [
    {
     "data": {
      "text/plain": [
       "9"
      ]
     },
     "execution_count": 43,
     "metadata": {
      "tags": []
     },
     "output_type": "execute_result"
    }
   ],
   "source": [
    "func(3, 4)"
   ]
  },
  {
   "cell_type": "markdown",
   "metadata": {
    "id": "rk_VJCxhyWjs"
   },
   "source": [
    "Функция также может принимать переменное количество позиционных аргументов (аргументы, передаваемые в вызов в определённой последовательности (на определённых позициях), без указания их имён), тогда перед именем ставится *."
   ]
  },
  {
   "cell_type": "code",
   "execution_count": 36,
   "metadata": {
    "executionInfo": {
     "elapsed": 691,
     "status": "ok",
     "timestamp": 1601485163599,
     "user": {
      "displayName": "Максим Иванов",
      "photoUrl": "",
      "userId": "13928116544814490129"
     },
     "user_tz": -180
    },
    "id": "PJjM_IOAyWjs"
   },
   "outputs": [],
   "source": [
    "def func(*args):\n",
    "    return args"
   ]
  },
  {
   "cell_type": "code",
   "execution_count": 37,
   "metadata": {
    "colab": {
     "base_uri": "https://localhost:8080/",
     "height": 34
    },
    "executionInfo": {
     "elapsed": 423,
     "status": "ok",
     "timestamp": 1601485163974,
     "user": {
      "displayName": "Максим Иванов",
      "photoUrl": "",
      "userId": "13928116544814490129"
     },
     "user_tz": -180
    },
    "id": "roHlcHMtyWju",
    "outputId": "54def95d-cf86-4c6c-91b4-8d2deef26f8c"
   },
   "outputs": [
    {
     "data": {
      "text/plain": [
       "(1, 2, 3, 'abc')"
      ]
     },
     "execution_count": 37,
     "metadata": {
      "tags": []
     },
     "output_type": "execute_result"
    }
   ],
   "source": [
    "func(1, 2, 3, \"abc\")"
   ]
  },
  {
   "cell_type": "markdown",
   "metadata": {
    "id": "2nTHTWSXyWjy"
   },
   "source": [
    "Функция может принимать и произвольное число именованных аргументов (аргументы, передаваемые в вызов при помощи имени), тогда перед именем ставится **."
   ]
  },
  {
   "cell_type": "code",
   "execution_count": 38,
   "metadata": {
    "executionInfo": {
     "elapsed": 886,
     "status": "ok",
     "timestamp": 1601485170164,
     "user": {
      "displayName": "Максим Иванов",
      "photoUrl": "",
      "userId": "13928116544814490129"
     },
     "user_tz": -180
    },
    "id": "2QYPld2HyWjy"
   },
   "outputs": [],
   "source": [
    "def func(**kwargs):\n",
    "    return kwargs"
   ]
  },
  {
   "cell_type": "code",
   "execution_count": 39,
   "metadata": {
    "colab": {
     "base_uri": "https://localhost:8080/",
     "height": 34
    },
    "executionInfo": {
     "elapsed": 456,
     "status": "ok",
     "timestamp": 1601485170165,
     "user": {
      "displayName": "Максим Иванов",
      "photoUrl": "",
      "userId": "13928116544814490129"
     },
     "user_tz": -180
    },
    "id": "GlTaCHEFyWj1",
    "outputId": "b2773843-a015-4fb5-ef53-4058e6126cf1"
   },
   "outputs": [
    {
     "data": {
      "text/plain": [
       "{'a': 1, 'b': 2, 'c': 3}"
      ]
     },
     "execution_count": 39,
     "metadata": {
      "tags": []
     },
     "output_type": "execute_result"
    }
   ],
   "source": [
    "func(a=1, b=2, c=3)"
   ]
  },
  {
   "cell_type": "markdown",
   "metadata": {
    "id": "jIoLfih7yWj2"
   },
   "source": [
    "### Функция main"
   ]
  },
  {
   "cell_type": "markdown",
   "metadata": {
    "id": "BBPjlv3IyWj2"
   },
   "source": [
    "Хотя в Python можно вызывать функцию, которая находится в конце программы, во многих языках программирования (таких как C++ и Java) для выполнения программы требуется функция main. Применение функции main() не обязательно, но поможет организовать логику программы, помещая важные элементы в одну функцию."
   ]
  },
  {
   "cell_type": "code",
   "execution_count": 40,
   "metadata": {
    "colab": {
     "base_uri": "https://localhost:8080/",
     "height": 50
    },
    "executionInfo": {
     "elapsed": 712,
     "status": "ok",
     "timestamp": 1601485188156,
     "user": {
      "displayName": "Максим Иванов",
      "photoUrl": "",
      "userId": "13928116544814490129"
     },
     "user_tz": -180
    },
    "id": "5ATDblO5yWj2",
    "outputId": "923cda95-8d60-4a75-d4bf-d22e015f78a0"
   },
   "outputs": [
    {
     "name": "stdout",
     "output_type": "stream",
     "text": [
      "Это главная функция\n",
      "Hello, World!\n"
     ]
    }
   ],
   "source": [
    "# Файл hello.py\n",
    "def hello():\n",
    "    print(\"Hello, World!\")\n",
    "\n",
    "\n",
    "def main():\n",
    "    print(\"Это главная функция\")\n",
    "    hello()\n",
    "\n",
    "\n",
    "main()"
   ]
  },
  {
   "cell_type": "markdown",
   "metadata": {
    "id": "_iluOnlfyWj4"
   },
   "source": [
    "На языке Python ‘__main__’ — это имя области, в которой будет выполняться код верхнего уровня. Если программа запускается стандартным вводом или с помощью интерактивного запроса, то __name__ устанавливается равным ‘__main__’."
   ]
  },
  {
   "cell_type": "code",
   "execution_count": 41,
   "metadata": {
    "executionInfo": {
     "elapsed": 668,
     "status": "ok",
     "timestamp": 1601485213596,
     "user": {
      "displayName": "Максим Иванов",
      "photoUrl": "",
      "userId": "13928116544814490129"
     },
     "user_tz": -180
    },
    "id": "cr1EHacQyWj4"
   },
   "outputs": [],
   "source": [
    "# if __name__ == '__main__':\n",
    "\n",
    "    # Код для выполнения, когда это главная программа"
   ]
  },
  {
   "cell_type": "markdown",
   "metadata": {
    "id": "5ufInLZUyWj5"
   },
   "source": [
    "Так мы получаем возможность использовать программные файлы в качестве:\n",
    "\n",
    "- главной программы и запускать ту часть, которая следует после инструкции if;\n",
    "- модуля и не запускать то, что следует после инструкции if."
   ]
  },
  {
   "cell_type": "code",
   "execution_count": 42,
   "metadata": {
    "colab": {
     "base_uri": "https://localhost:8080/",
     "height": 67
    },
    "executionInfo": {
     "elapsed": 4041,
     "status": "ok",
     "timestamp": 1601485243288,
     "user": {
      "displayName": "Максим Иванов",
      "photoUrl": "",
      "userId": "13928116544814490129"
     },
     "user_tz": -180
    },
    "id": "-tYVgL-syWj5",
    "outputId": "999da687-fd3d-44f5-f244-1e254469b991"
   },
   "outputs": [
    {
     "name": "stdout",
     "output_type": "stream",
     "text": [
      "Your name: A\n",
      "Has Vowel!\n",
      "Welcome!\n"
     ]
    }
   ],
   "source": [
    "# Объявляем глобальную переменную name для применения во всех функциях\n",
    "name = str(input('Your name: '))\n",
    "\n",
    "# Определяем функцию, чтобы проверить, содержит ли имя гласную букву\n",
    "def has_vowel():\n",
    "    if set('aeiou').intersection(name.lower()):\n",
    "        print('Has Vowel!')\n",
    "    else:\n",
    "        print('There is no Vowel! :(')\n",
    "def welcome():\n",
    "    print('Welcome!')\n",
    "\n",
    "# Выполняем функцию main()\n",
    "if __name__ == '__main__':\n",
    "    has_vowel()\n",
    "    \n",
    "welcome()"
   ]
  },
  {
   "cell_type": "code",
   "execution_count": 43,
   "metadata": {
    "colab": {
     "base_uri": "https://localhost:8080/",
     "height": 296
    },
    "executionInfo": {
     "elapsed": 635,
     "status": "error",
     "timestamp": 1601485295689,
     "user": {
      "displayName": "Максим Иванов",
      "photoUrl": "",
      "userId": "13928116544814490129"
     },
     "user_tz": -180
    },
    "id": "ijiwVq7nyWj7",
    "outputId": "bb8ffb11-9b1b-42b3-ca26-ddc96c4a5e64"
   },
   "outputs": [
    {
     "ename": "ModuleNotFoundError",
     "evalue": "ignored",
     "output_type": "error",
     "traceback": [
      "\u001b[0;31m---------------------------------------------------------------------------\u001b[0m",
      "\u001b[0;31mModuleNotFoundError\u001b[0m                       Traceback (most recent call last)",
      "\u001b[0;32m<ipython-input-43-0b8761553472>\u001b[0m in \u001b[0;36m<module>\u001b[0;34m()\u001b[0m\n\u001b[0;32m----> 1\u001b[0;31m \u001b[0;32mimport\u001b[0m \u001b[0mnames\u001b[0m\u001b[0;34m\u001b[0m\u001b[0;34m\u001b[0m\u001b[0m\n\u001b[0m",
      "\u001b[0;31mModuleNotFoundError\u001b[0m: No module named 'names'",
      "",
      "\u001b[0;31m---------------------------------------------------------------------------\u001b[0;32m\nNOTE: If your import is failing due to a missing package, you can\nmanually install dependencies using either !pip or !apt.\n\nTo view examples of installing some common dependencies, click the\n\"Open Examples\" button below.\n\u001b[0;31m---------------------------------------------------------------------------\u001b[0m\n"
     ]
    }
   ],
   "source": [
    "import names"
   ]
  },
  {
   "cell_type": "markdown",
   "metadata": {
    "id": "Yo0bif6cyWj8"
   },
   "source": [
    "Попробуйте запутсить код программы из консоли."
   ]
  },
  {
   "cell_type": "code",
   "execution_count": 45,
   "metadata": {
    "executionInfo": {
     "elapsed": 826,
     "status": "ok",
     "timestamp": 1601485358531,
     "user": {
      "displayName": "Максим Иванов",
      "photoUrl": "",
      "userId": "13928116544814490129"
     },
     "user_tz": -180
    },
    "id": "MlaaJA-iyWj8"
   },
   "outputs": [],
   "source": [
    "# import importlib\n",
    "# importlib.reload(names)"
   ]
  },
  {
   "cell_type": "markdown",
   "metadata": {
    "id": "kvpK7G6HyWj-"
   },
   "source": [
    "### Google Colab"
   ]
  },
  {
   "cell_type": "markdown",
   "metadata": {
    "id": "JQWyBPhmyWj-"
   },
   "source": [
    " <img height = '300px' src=\"images/lesson_1/637034055037377500.jpg\">"
   ]
  },
  {
   "cell_type": "code",
   "execution_count": null,
   "metadata": {
    "id": "qY0dcJn69vvt"
   },
   "outputs": [],
   "source": []
  }
 ],
 "metadata": {
  "colab": {
   "collapsed_sections": [
    "LFYFhZ6MyWfp",
    "y8I2fo_XyWfw",
    "b1le4lGUyWgJ",
    "R6YOUDzWyWgK",
    "zXgOFrkCyWgP",
    "D8fg1bQtyWgT",
    "9LYihJVoyWgi",
    "qlWkaxvzyWg8",
    "uWbkZKeAyWhN",
    "1H37t43qyWh_",
    "kMW3EAsryWiG",
    "a5ImE7FZyWiZ",
    "-j1AO9SLyWi6",
    "dpGnw6hlyWi9",
    "lCABIB4OyWjJ",
    "4Me71YbWyWjW",
    "Rwc57JoCyWjj",
    "jIoLfih7yWj2"
   ],
   "name": "lesson_1.Python_intro.ipynb",
   "provenance": [],
   "toc_visible": true
  },
  "kernelspec": {
   "display_name": "Python 3",
   "language": "python",
   "name": "python3"
  },
  "language_info": {
   "codemirror_mode": {
    "name": "ipython",
    "version": 3
   },
   "file_extension": ".py",
   "mimetype": "text/x-python",
   "name": "python",
   "nbconvert_exporter": "python",
   "pygments_lexer": "ipython3",
   "version": "3.8.2"
  },
  "varInspector": {
   "cols": {
    "lenName": 16,
    "lenType": 16,
    "lenVar": 40
   },
   "kernels_config": {
    "python": {
     "delete_cmd_postfix": "",
     "delete_cmd_prefix": "del ",
     "library": "var_list.py",
     "varRefreshCmd": "print(var_dic_list())"
    },
    "r": {
     "delete_cmd_postfix": ") ",
     "delete_cmd_prefix": "rm(",
     "library": "var_list.r",
     "varRefreshCmd": "cat(var_dic_list()) "
    }
   },
   "types_to_exclude": [
    "module",
    "function",
    "builtin_function_or_method",
    "instance",
    "_Feature"
   ],
   "window_display": false
  }
 },
 "nbformat": 4,
 "nbformat_minor": 1
}
