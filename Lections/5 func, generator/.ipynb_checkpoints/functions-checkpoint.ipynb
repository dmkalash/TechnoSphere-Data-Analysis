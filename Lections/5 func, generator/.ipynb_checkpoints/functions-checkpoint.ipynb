{
 "cells": [
  {
   "cell_type": "markdown",
   "metadata": {},
   "source": [
    "# Функции"
   ]
  },
  {
   "cell_type": "code",
   "execution_count": 1,
   "metadata": {},
   "outputs": [
    {
     "data": {
      "text/plain": [
       "24"
      ]
     },
     "execution_count": 1,
     "metadata": {},
     "output_type": "execute_result"
    }
   ],
   "source": [
    "from datetime import datetime\n",
    "\n",
    "\n",
    "def current_seconds():\n",
    "    \"\"\"Return current seconds\"\"\"\n",
    "    return datetime.now().second\n",
    "\n",
    "\n",
    "current_seconds()"
   ]
  },
  {
   "cell_type": "code",
   "execution_count": 2,
   "metadata": {
    "scrolled": false
   },
   "outputs": [
    {
     "name": "stdout",
     "output_type": "stream",
     "text": [
      "Help on function current_seconds in module __main__:\n",
      "\n",
      "current_seconds()\n",
      "    Return current seconds\n",
      "\n"
     ]
    }
   ],
   "source": [
    "help(current_seconds)"
   ]
  },
  {
   "cell_type": "markdown",
   "metadata": {},
   "source": [
    "SHIFT + TAB"
   ]
  },
  {
   "cell_type": "code",
   "execution_count": null,
   "metadata": {},
   "outputs": [],
   "source": [
    "current_seconds()"
   ]
  },
  {
   "cell_type": "code",
   "execution_count": 3,
   "metadata": {},
   "outputs": [],
   "source": [
    "current_seconds?"
   ]
  },
  {
   "cell_type": "markdown",
   "metadata": {},
   "source": [
    "##  Что такое функция?"
   ]
  },
  {
   "cell_type": "code",
   "execution_count": 4,
   "metadata": {},
   "outputs": [
    {
     "name": "stdout",
     "output_type": "stream",
     "text": [
      "<class 'function'>\n"
     ]
    }
   ],
   "source": [
    "print(type(current_seconds))"
   ]
  },
  {
   "cell_type": "code",
   "execution_count": 5,
   "metadata": {},
   "outputs": [
    {
     "data": {
      "text/plain": [
       "'current_seconds'"
      ]
     },
     "execution_count": 5,
     "metadata": {},
     "output_type": "execute_result"
    }
   ],
   "source": [
    "current_seconds.__name__"
   ]
  },
  {
   "cell_type": "code",
   "execution_count": 6,
   "metadata": {},
   "outputs": [
    {
     "data": {
      "text/plain": [
       "'Return current seconds'"
      ]
     },
     "execution_count": 6,
     "metadata": {},
     "output_type": "execute_result"
    }
   ],
   "source": [
    "current_seconds.__doc__"
   ]
  },
  {
   "cell_type": "code",
   "execution_count": 7,
   "metadata": {},
   "outputs": [
    {
     "data": {
      "text/plain": [
       "['__annotations__',\n",
       " '__call__',\n",
       " '__class__',\n",
       " '__closure__',\n",
       " '__code__',\n",
       " '__defaults__',\n",
       " '__delattr__',\n",
       " '__dict__',\n",
       " '__dir__',\n",
       " '__doc__',\n",
       " '__eq__',\n",
       " '__format__',\n",
       " '__ge__',\n",
       " '__get__',\n",
       " '__getattribute__',\n",
       " '__globals__',\n",
       " '__gt__',\n",
       " '__hash__',\n",
       " '__init__',\n",
       " '__init_subclass__',\n",
       " '__kwdefaults__',\n",
       " '__le__',\n",
       " '__lt__',\n",
       " '__module__',\n",
       " '__name__',\n",
       " '__ne__',\n",
       " '__new__',\n",
       " '__qualname__',\n",
       " '__reduce__',\n",
       " '__reduce_ex__',\n",
       " '__repr__',\n",
       " '__setattr__',\n",
       " '__sizeof__',\n",
       " '__str__',\n",
       " '__subclasshook__']"
      ]
     },
     "execution_count": 7,
     "metadata": {},
     "output_type": "execute_result"
    }
   ],
   "source": [
    "dir(current_seconds)"
   ]
  },
  {
   "cell_type": "markdown",
   "metadata": {},
   "source": [
    "### В Python всё является объектом 😱"
   ]
  },
  {
   "cell_type": "code",
   "execution_count": 8,
   "metadata": {},
   "outputs": [
    {
     "name": "stdout",
     "output_type": "stream",
     "text": [
      "<class 'int'>\n"
     ]
    }
   ],
   "source": [
    "print(type(5))"
   ]
  },
  {
   "cell_type": "code",
   "execution_count": 9,
   "metadata": {
    "scrolled": true
   },
   "outputs": [
    {
     "data": {
      "text/plain": [
       "['__abs__',\n",
       " '__add__',\n",
       " '__and__',\n",
       " '__bool__',\n",
       " '__ceil__',\n",
       " '__class__',\n",
       " '__delattr__',\n",
       " '__dir__',\n",
       " '__divmod__',\n",
       " '__doc__',\n",
       " '__eq__',\n",
       " '__float__',\n",
       " '__floor__',\n",
       " '__floordiv__',\n",
       " '__format__',\n",
       " '__ge__',\n",
       " '__getattribute__',\n",
       " '__getnewargs__',\n",
       " '__gt__',\n",
       " '__hash__',\n",
       " '__index__',\n",
       " '__init__',\n",
       " '__init_subclass__',\n",
       " '__int__',\n",
       " '__invert__',\n",
       " '__le__',\n",
       " '__lshift__',\n",
       " '__lt__',\n",
       " '__mod__',\n",
       " '__mul__',\n",
       " '__ne__',\n",
       " '__neg__',\n",
       " '__new__',\n",
       " '__or__',\n",
       " '__pos__',\n",
       " '__pow__',\n",
       " '__radd__',\n",
       " '__rand__',\n",
       " '__rdivmod__',\n",
       " '__reduce__',\n",
       " '__reduce_ex__',\n",
       " '__repr__',\n",
       " '__rfloordiv__',\n",
       " '__rlshift__',\n",
       " '__rmod__',\n",
       " '__rmul__',\n",
       " '__ror__',\n",
       " '__round__',\n",
       " '__rpow__',\n",
       " '__rrshift__',\n",
       " '__rshift__',\n",
       " '__rsub__',\n",
       " '__rtruediv__',\n",
       " '__rxor__',\n",
       " '__setattr__',\n",
       " '__sizeof__',\n",
       " '__str__',\n",
       " '__sub__',\n",
       " '__subclasshook__',\n",
       " '__truediv__',\n",
       " '__trunc__',\n",
       " '__xor__',\n",
       " 'bit_length',\n",
       " 'conjugate',\n",
       " 'denominator',\n",
       " 'from_bytes',\n",
       " 'imag',\n",
       " 'numerator',\n",
       " 'real',\n",
       " 'to_bytes']"
      ]
     },
     "execution_count": 9,
     "metadata": {},
     "output_type": "execute_result"
    }
   ],
   "source": [
    "dir(5)"
   ]
  },
  {
   "cell_type": "markdown",
   "metadata": {},
   "source": [
    "Объекты, имеющие одинаковые значения, не обязаны храниться по одному и тому же адресу.\n",
    "\n",
    "Оптимизация для `int`: https://docs.python.org/3.7/c-api/long.html"
   ]
  },
  {
   "cell_type": "code",
   "execution_count": 10,
   "metadata": {},
   "outputs": [
    {
     "data": {
      "text/plain": [
       "(4429219328, 4429219328, True)"
      ]
     },
     "execution_count": 10,
     "metadata": {},
     "output_type": "execute_result"
    }
   ],
   "source": [
    "a, b = 4, 4\n",
    "\n",
    "id(a), id(b), id(a) == id(b)"
   ]
  },
  {
   "cell_type": "code",
   "execution_count": 11,
   "metadata": {},
   "outputs": [
    {
     "data": {
      "text/plain": [
       "(4466883824, 4466883760, False)"
      ]
     },
     "execution_count": 11,
     "metadata": {},
     "output_type": "execute_result"
    }
   ],
   "source": [
    "a, b = 15306, 15306\n",
    "\n",
    "id(a), id(b), id(a) == id(b)"
   ]
  },
  {
   "cell_type": "markdown",
   "metadata": {},
   "source": [
    "### Хорошо, и что дальше?"
   ]
  },
  {
   "cell_type": "code",
   "execution_count": 12,
   "metadata": {},
   "outputs": [
    {
     "data": {
      "text/plain": [
       "58"
      ]
     },
     "execution_count": 12,
     "metadata": {},
     "output_type": "execute_result"
    }
   ],
   "source": [
    "func = current_seconds\n",
    "func()"
   ]
  },
  {
   "cell_type": "code",
   "execution_count": 13,
   "metadata": {},
   "outputs": [
    {
     "data": {
      "text/plain": [
       "<function __main__.current_seconds()>"
      ]
     },
     "execution_count": 13,
     "metadata": {},
     "output_type": "execute_result"
    }
   ],
   "source": [
    "func"
   ]
  },
  {
   "cell_type": "code",
   "execution_count": 14,
   "metadata": {},
   "outputs": [
    {
     "data": {
      "text/plain": [
       "8"
      ]
     },
     "execution_count": 14,
     "metadata": {},
     "output_type": "execute_result"
    }
   ],
   "source": [
    "def add(a, b):\n",
    "    return a + b\n",
    "\n",
    "def power(a, b):\n",
    "    return a ** b\n",
    "\n",
    "def sub(a, b):\n",
    "    return a - b\n",
    "\n",
    "key = 'power'\n",
    "\n",
    "func = {\n",
    "    'add':   add,\n",
    "    'power': power,\n",
    "    'sub':   sub,\n",
    "}[key]\n",
    "\n",
    "func(2, 3)"
   ]
  },
  {
   "cell_type": "markdown",
   "metadata": {},
   "source": [
    "<span style=\"color:blue;font-weight:bold\">Жизненный пример</span>\n",
    "\n",
    "Предположим, мы хотим написать класс для поиска ближайшего соседа `NearestNeighborsFinder`. Поиск соседей будем реализовывать с помощью метода полного перебора.\n",
    "\n",
    "```python\n",
    "class NearestNeighborsFinder:\n",
    "    def __init__(self, n_neighbors, metric=\"euclidean\"):\n",
    "        self.n_neighbors = n_neighbors\n",
    "\n",
    "        if metric == \"euclidean\":\n",
    "            self._metric_func = euclidean_distance\n",
    "        elif metric == \"cosine\":\n",
    "            self._metric_func = cosine_distance\n",
    "        else:\n",
    "            raise ValueError(\"Metric is not supported\", metric)\n",
    "        self.metric = metric\n",
    "\n",
    "    def fit(self, X, y=None):\n",
    "        self._X = X\n",
    "        return self\n",
    "\n",
    "    def kneighbors(self, X, return_distance=False):\n",
    "        # используем выбранную функцию для подсчета расстояний\n",
    "        distances = self._metric_func(X, self._X)\n",
    "        ...\n",
    "```"
   ]
  },
  {
   "cell_type": "code",
   "execution_count": 15,
   "metadata": {},
   "outputs": [
    {
     "data": {
      "text/plain": [
       "'iMh52KgXWwg'"
      ]
     },
     "execution_count": 15,
     "metadata": {},
     "output_type": "execute_result"
    }
   ],
   "source": [
    "current_seconds.secret = \"iMh52KgXWwg\"\n",
    "current_seconds.secret"
   ]
  },
  {
   "cell_type": "code",
   "execution_count": 16,
   "metadata": {},
   "outputs": [],
   "source": [
    "def func():\n",
    "    func.counter += 1\n",
    "\n",
    "func.counter = 0"
   ]
  },
  {
   "cell_type": "code",
   "execution_count": 17,
   "metadata": {},
   "outputs": [
    {
     "data": {
      "text/plain": [
       "5"
      ]
     },
     "execution_count": 17,
     "metadata": {},
     "output_type": "execute_result"
    }
   ],
   "source": [
    "for i in range(5):\n",
    "    func()\n",
    "    \n",
    "func.counter"
   ]
  },
  {
   "cell_type": "code",
   "execution_count": 18,
   "metadata": {},
   "outputs": [],
   "source": [
    "def func():\n",
    "    if not hasattr(func, 'counter'):\n",
    "        setattr(func, 'counter', 0)\n",
    "    func.counter += 1"
   ]
  },
  {
   "cell_type": "code",
   "execution_count": 19,
   "metadata": {},
   "outputs": [
    {
     "data": {
      "text/plain": [
       "7"
      ]
     },
     "execution_count": 19,
     "metadata": {},
     "output_type": "execute_result"
    }
   ],
   "source": [
    "for i in range(7):\n",
    "    func()\n",
    "    \n",
    "func.counter"
   ]
  },
  {
   "cell_type": "code",
   "execution_count": 20,
   "metadata": {},
   "outputs": [
    {
     "name": "stdout",
     "output_type": "stream",
     "text": [
      "here\n"
     ]
    },
    {
     "data": {
      "text/plain": [
       "42"
      ]
     },
     "execution_count": 20,
     "metadata": {},
     "output_type": "execute_result"
    }
   ],
   "source": [
    "def foo():\n",
    "    def bar():\n",
    "        return 42\n",
    "    \n",
    "    print(\"here\")\n",
    "    return bar()\n",
    "\n",
    "foo()"
   ]
  },
  {
   "cell_type": "markdown",
   "metadata": {},
   "source": [
    "Не злоупотребляйте объявлением функций внутри функций. Такое объявление имеет смысл только в том случае, если внутренняя функция больше никому не понадобится.\n",
    "\n",
    "Первый <span style=\"color:blue;font-weight:bold\">хороший</span> пример:\n",
    "\n",
    "```python\n",
    "def load_data(filename):\n",
    "    def parse(s):\n",
    "        doc_id, url, ts = s.split('\\t')\n",
    "        doc_id = int(doc_id)\n",
    "        ts = datetime.fromtimestamp(int(ts))\n",
    "        return doc_id, url, ts\n",
    "    \n",
    "    with open(filename) as f:\n",
    "        f = map(parse, f)\n",
    "        for doc_id, url, ts in f:\n",
    "            pass\n",
    "            \n",
    "    return data\n",
    "```\n",
    "\n",
    "Второй <span style=\"color:blue;font-weight:bold\">хороший</span> пример – декораторы. 😈"
   ]
  },
  {
   "cell_type": "markdown",
   "metadata": {},
   "source": [
    "<span style=\"color:red;font-weight:bold\">НИКОГДА</span> не делайте так, как показано ниже."
   ]
  },
  {
   "cell_type": "code",
   "execution_count": 21,
   "metadata": {},
   "outputs": [
    {
     "data": {
      "text/plain": [
       "9"
      ]
     },
     "execution_count": 21,
     "metadata": {},
     "output_type": "execute_result"
    }
   ],
   "source": [
    "# Внимание на количество аргументов!\n",
    "\n",
    "def func(a, b):\n",
    "    pass\n",
    "\n",
    "func.__code__ = current_seconds.__code__\n",
    "func()"
   ]
  },
  {
   "cell_type": "code",
   "execution_count": 22,
   "metadata": {},
   "outputs": [
    {
     "data": {
      "text/plain": [
       "<function __main__.func()>"
      ]
     },
     "execution_count": 22,
     "metadata": {},
     "output_type": "execute_result"
    }
   ],
   "source": [
    "func"
   ]
  },
  {
   "cell_type": "markdown",
   "metadata": {},
   "source": [
    "## Как можно и как нельзя вызывать функции?"
   ]
  },
  {
   "cell_type": "code",
   "execution_count": 23,
   "metadata": {},
   "outputs": [
    {
     "ename": "TypeError",
     "evalue": "current_seconds() takes 0 positional arguments but 1 was given",
     "output_type": "error",
     "traceback": [
      "\u001b[0;31m---------------------------------------------------------------------------\u001b[0m",
      "\u001b[0;31mTypeError\u001b[0m                                 Traceback (most recent call last)",
      "\u001b[0;32m<ipython-input-23-ba2f9d46cb5a>\u001b[0m in \u001b[0;36m<module>\u001b[0;34m\u001b[0m\n\u001b[0;32m----> 1\u001b[0;31m \u001b[0mcurrent_seconds\u001b[0m\u001b[0;34m(\u001b[0m\u001b[0;36m5\u001b[0m\u001b[0;34m)\u001b[0m\u001b[0;34m\u001b[0m\u001b[0;34m\u001b[0m\u001b[0m\n\u001b[0m",
      "\u001b[0;31mTypeError\u001b[0m: current_seconds() takes 0 positional arguments but 1 was given"
     ]
    }
   ],
   "source": [
    "current_seconds(5)"
   ]
  },
  {
   "cell_type": "code",
   "execution_count": 24,
   "metadata": {},
   "outputs": [],
   "source": [
    "def func(a, b, c, d):\n",
    "    print(f\"a = {a}; b = {b}; c = {c}; d = {d}\")"
   ]
  },
  {
   "cell_type": "code",
   "execution_count": 25,
   "metadata": {},
   "outputs": [
    {
     "ename": "TypeError",
     "evalue": "func() missing 4 required positional arguments: 'a', 'b', 'c', and 'd'",
     "output_type": "error",
     "traceback": [
      "\u001b[0;31m---------------------------------------------------------------------------\u001b[0m",
      "\u001b[0;31mTypeError\u001b[0m                                 Traceback (most recent call last)",
      "\u001b[0;32m<ipython-input-25-bd1982955a12>\u001b[0m in \u001b[0;36m<module>\u001b[0;34m\u001b[0m\n\u001b[0;32m----> 1\u001b[0;31m \u001b[0mfunc\u001b[0m\u001b[0;34m(\u001b[0m\u001b[0;34m)\u001b[0m\u001b[0;34m\u001b[0m\u001b[0;34m\u001b[0m\u001b[0m\n\u001b[0m",
      "\u001b[0;31mTypeError\u001b[0m: func() missing 4 required positional arguments: 'a', 'b', 'c', and 'd'"
     ]
    }
   ],
   "source": [
    "func()"
   ]
  },
  {
   "cell_type": "code",
   "execution_count": 26,
   "metadata": {},
   "outputs": [
    {
     "name": "stdout",
     "output_type": "stream",
     "text": [
      "a = 1; b = 2; c = 3; d = 4\n"
     ]
    }
   ],
   "source": [
    "func(1, 2, 3, 4)"
   ]
  },
  {
   "cell_type": "code",
   "execution_count": 27,
   "metadata": {},
   "outputs": [
    {
     "name": "stdout",
     "output_type": "stream",
     "text": [
      "a = 3; b = 2; c = 1; d = 4\n"
     ]
    }
   ],
   "source": [
    "func(c=1, b=2, a=3, d=4)"
   ]
  },
  {
   "cell_type": "code",
   "execution_count": 28,
   "metadata": {},
   "outputs": [
    {
     "name": "stdout",
     "output_type": "stream",
     "text": [
      "a = 1; b = 2; c = 4; d = 3\n"
     ]
    }
   ],
   "source": [
    "func(1, 2, d=3, c=4)"
   ]
  },
  {
   "cell_type": "code",
   "execution_count": 29,
   "metadata": {},
   "outputs": [
    {
     "ename": "TypeError",
     "evalue": "func() got multiple values for argument 'a'",
     "output_type": "error",
     "traceback": [
      "\u001b[0;31m---------------------------------------------------------------------------\u001b[0m",
      "\u001b[0;31mTypeError\u001b[0m                                 Traceback (most recent call last)",
      "\u001b[0;32m<ipython-input-29-92a149731d75>\u001b[0m in \u001b[0;36m<module>\u001b[0;34m\u001b[0m\n\u001b[0;32m----> 1\u001b[0;31m \u001b[0mfunc\u001b[0m\u001b[0;34m(\u001b[0m\u001b[0;36m1\u001b[0m\u001b[0;34m,\u001b[0m \u001b[0;36m3\u001b[0m\u001b[0;34m,\u001b[0m \u001b[0ma\u001b[0m\u001b[0;34m=\u001b[0m\u001b[0;36m2\u001b[0m\u001b[0;34m,\u001b[0m \u001b[0md\u001b[0m\u001b[0;34m=\u001b[0m\u001b[0;36m4\u001b[0m\u001b[0;34m)\u001b[0m\u001b[0;34m\u001b[0m\u001b[0;34m\u001b[0m\u001b[0m\n\u001b[0m",
      "\u001b[0;31mTypeError\u001b[0m: func() got multiple values for argument 'a'"
     ]
    }
   ],
   "source": [
    "func(1, 3, a=2, d=4)"
   ]
  },
  {
   "cell_type": "code",
   "execution_count": 30,
   "metadata": {},
   "outputs": [
    {
     "ename": "SyntaxError",
     "evalue": "positional argument follows keyword argument (<ipython-input-30-d13e1488f6b8>, line 1)",
     "output_type": "error",
     "traceback": [
      "\u001b[0;36m  File \u001b[0;32m\"<ipython-input-30-d13e1488f6b8>\"\u001b[0;36m, line \u001b[0;32m1\u001b[0m\n\u001b[0;31m    func(a=1, b=2, 1, 3)\u001b[0m\n\u001b[0m                  ^\u001b[0m\n\u001b[0;31mSyntaxError\u001b[0m\u001b[0;31m:\u001b[0m positional argument follows keyword argument\n"
     ]
    }
   ],
   "source": [
    "func(a=1, b=2, 1, 3)"
   ]
  },
  {
   "cell_type": "markdown",
   "metadata": {},
   "source": [
    "### Распаковка аргументов"
   ]
  },
  {
   "cell_type": "code",
   "execution_count": 31,
   "metadata": {},
   "outputs": [
    {
     "name": "stdout",
     "output_type": "stream",
     "text": [
      "a = 1; b = 2; c = 3; d = 4\n"
     ]
    }
   ],
   "source": [
    "args = (1, 2, 3, 4)\n",
    "func(*args)"
   ]
  },
  {
   "cell_type": "code",
   "execution_count": 32,
   "metadata": {},
   "outputs": [
    {
     "name": "stdout",
     "output_type": "stream",
     "text": [
      "str1 str2 str3\n"
     ]
    }
   ],
   "source": [
    "args = ['str1', 'str2', 'str3']\n",
    "print(*args)"
   ]
  },
  {
   "cell_type": "code",
   "execution_count": 33,
   "metadata": {},
   "outputs": [
    {
     "name": "stdout",
     "output_type": "stream",
     "text": [
      "['str1', 'str2', 'str3']\n"
     ]
    }
   ],
   "source": [
    "print(args)"
   ]
  },
  {
   "cell_type": "code",
   "execution_count": 34,
   "metadata": {},
   "outputs": [],
   "source": [
    "def func_complex(learning_rate, item_alpha, user_alpha, option):\n",
    "    return 42"
   ]
  },
  {
   "cell_type": "code",
   "execution_count": 35,
   "metadata": {},
   "outputs": [
    {
     "data": {
      "text/plain": [
       "42"
      ]
     },
     "execution_count": 35,
     "metadata": {},
     "output_type": "execute_result"
    }
   ],
   "source": [
    "learning_rate = 1\n",
    "item_alpha = 3\n",
    "user_alpha = 4\n",
    "option = 2\n",
    "\n",
    "# Сложные логические вычисления аргументов функции (или загрузка конфигурации) ...\n",
    "# Длинные именнованые аргументы...\n",
    "\n",
    "func_complex(learning_rate=learning_rate, item_alpha=item_alpha,\n",
    "             user_alpha=user_alpha, option=option)"
   ]
  },
  {
   "cell_type": "code",
   "execution_count": 36,
   "metadata": {},
   "outputs": [
    {
     "data": {
      "text/plain": [
       "42"
      ]
     },
     "execution_count": 36,
     "metadata": {},
     "output_type": "execute_result"
    }
   ],
   "source": [
    "kwargs = {\n",
    "    'learning_rate': 1,\n",
    "    'item_alpha':    3,\n",
    "    'user_alpha':    4,\n",
    "    'option':        2,\n",
    "}\n",
    "\n",
    "func_complex(**kwargs)"
   ]
  },
  {
   "cell_type": "markdown",
   "metadata": {},
   "source": [
    "С одной стороны вызовы через распаковку компактнее, с другой стороны – менее читабельные. Нужно ловить баланс между использованием обоих вариантов. \n",
    "\n",
    "<span style=\"color:blue;font-weight:bold\">Хороший</span> пример баланса использования распаковки и именованных аргументов:\n",
    "\n",
    "```python\n",
    "params = { \"user_features\": user_features, \n",
    "           \"item_features\": item_features,\n",
    "           \"num_threads\": 32 }\n",
    "\n",
    "scores = []\n",
    "\n",
    "for _ in range(epochs):\n",
    "    scores.append([])\n",
    "    \n",
    "    for model, (X_train, X_valid) in zip(models, datasets):\n",
    "        model.fit_partial(X_train, epochs=1, **params)\n",
    "        score_train = auc_score(model=model, test_interactions=X_train, **params).mean()\n",
    "        score_valid = auc_score(model=model, test_interactions=X_valid, **params).mean()\n",
    "        scores[-1].append((score_train, score_valid))\n",
    "        \n",
    "scores = np.asarray(scores)\n",
    "```\n",
    "\n",
    "<span style=\"color:blue;font-weight:bold\">Хороший</span> пример с использованием конфигурации:\n",
    "```python\n",
    "import json\n",
    "\n",
    "config = json.load(open(PATH_CONFIG, \"r\"))\n",
    "config = config[args.ranker]\n",
    "\n",
    "...\n",
    "\n",
    "model = shrink_model(model, **config[\"shrink\"])\n",
    "```"
   ]
  },
  {
   "cell_type": "code",
   "execution_count": 37,
   "metadata": {},
   "outputs": [
    {
     "name": "stdout",
     "output_type": "stream",
     "text": [
      "a = 2; b = 1; c = 4; d = 3\n"
     ]
    }
   ],
   "source": [
    "args = (2, 1)\n",
    "kwargs = { 'd': 3, 'c': 4, }\n",
    "\n",
    "func(*args, **kwargs)"
   ]
  },
  {
   "cell_type": "code",
   "execution_count": 38,
   "metadata": {},
   "outputs": [],
   "source": [
    "# Функция, которая принимает все, что угодно\n",
    "\n",
    "def func(*args, **kwargs):\n",
    "    pass\n",
    "\n",
    "func()\n",
    "func(5, 6, 7)\n",
    "func([4], 5, b=12, d=6)\n",
    "func(a=6, b=8)"
   ]
  },
  {
   "cell_type": "code",
   "execution_count": 39,
   "metadata": {},
   "outputs": [],
   "source": [
    "def func(a, b, *args, **kwargs):\n",
    "    print(\"Function has started.\")\n",
    "    print(\"a = {}\".format(a))\n",
    "    print(\"b = {}\".format(b))\n",
    "    print(\"args = {}\".format(args))\n",
    "    print(\"kwargs = {}\".format(kwargs))\n",
    "    print(\"Function has finished.\")"
   ]
  },
  {
   "cell_type": "code",
   "execution_count": 40,
   "metadata": {},
   "outputs": [
    {
     "name": "stdout",
     "output_type": "stream",
     "text": [
      "Function has started.\n",
      "a = 1\n",
      "b = 4\n",
      "args = ()\n",
      "kwargs = {}\n",
      "Function has finished.\n"
     ]
    }
   ],
   "source": [
    "func(1, 4)"
   ]
  },
  {
   "cell_type": "code",
   "execution_count": 41,
   "metadata": {},
   "outputs": [
    {
     "name": "stdout",
     "output_type": "stream",
     "text": [
      "Function has started.\n",
      "a = 1\n",
      "b = 4\n",
      "args = (2, 3)\n",
      "kwargs = {'f': 6, 'n': 7, 'm': 12}\n",
      "Function has finished.\n"
     ]
    }
   ],
   "source": [
    "func(1, 4, 2, 3, f=6, n=7, m=12)"
   ]
  },
  {
   "cell_type": "markdown",
   "metadata": {},
   "source": [
    "### Механизм распаковки. Где еще?"
   ]
  },
  {
   "cell_type": "markdown",
   "metadata": {},
   "source": [
    "<span style=\"color:blue;font-weight:bold\">Пример:</span> установка нескольких значений"
   ]
  },
  {
   "cell_type": "code",
   "execution_count": 3,
   "metadata": {},
   "outputs": [],
   "source": [
    "content_title, content_descr = [], []"
   ]
  },
  {
   "cell_type": "markdown",
   "metadata": {},
   "source": [
    "<span style=\"color:blue;font-weight:bold\">Пример:</span>  обмен значениями `swap`"
   ]
  },
  {
   "cell_type": "code",
   "execution_count": 4,
   "metadata": {},
   "outputs": [
    {
     "data": {
      "text/plain": [
       "(7892, 2345)"
      ]
     },
     "execution_count": 4,
     "metadata": {},
     "output_type": "execute_result"
    }
   ],
   "source": [
    "a = 2345\n",
    "b = 7892\n",
    "\n",
    "a, b = b, a   # same as (a, b) = (b, a)\n",
    "\n",
    "a, b"
   ]
  },
  {
   "cell_type": "markdown",
   "metadata": {},
   "source": [
    "<span style=\"color:blue;font-weight:bold\">Пример:</span> распаковка результата функции\n",
    "\n",
    "```python\n",
    "from sklearn.model_selection import train_test_split\n",
    "\n",
    "X_train, X_test, y_train, y_test = train_test_split(\n",
    "     X, y, test_size=0.33, random_state=42)\n",
    "```"
   ]
  },
  {
   "cell_type": "code",
   "execution_count": 43,
   "metadata": {},
   "outputs": [],
   "source": [
    "tpl = ('jklm', 2, 'j', 'k')"
   ]
  },
  {
   "cell_type": "code",
   "execution_count": 44,
   "metadata": {},
   "outputs": [
    {
     "data": {
      "text/plain": [
       "'k'"
      ]
     },
     "execution_count": 44,
     "metadata": {},
     "output_type": "execute_result"
    }
   ],
   "source": [
    "*_, a = tpl      # same as _, _, _, a = tpl\n",
    "a"
   ]
  },
  {
   "cell_type": "code",
   "execution_count": 45,
   "metadata": {},
   "outputs": [
    {
     "data": {
      "text/plain": [
       "('k', ['jklm', 2, 'j'])"
      ]
     },
     "execution_count": 45,
     "metadata": {},
     "output_type": "execute_result"
    }
   ],
   "source": [
    "*b, a = tpl\n",
    "a, b"
   ]
  },
  {
   "cell_type": "code",
   "execution_count": 46,
   "metadata": {},
   "outputs": [
    {
     "data": {
      "text/plain": [
       "('j', 'k')"
      ]
     },
     "execution_count": 46,
     "metadata": {},
     "output_type": "execute_result"
    }
   ],
   "source": [
    "*_, a, b = tpl   # same as _, _, a, b = tpl\n",
    "a, b"
   ]
  },
  {
   "cell_type": "code",
   "execution_count": 47,
   "metadata": {},
   "outputs": [
    {
     "data": {
      "text/plain": [
       "'jklm'"
      ]
     },
     "execution_count": 47,
     "metadata": {},
     "output_type": "execute_result"
    }
   ],
   "source": [
    "a, *_ = tpl      # same as a, _, _, _ = tpl\n",
    "a"
   ]
  },
  {
   "cell_type": "code",
   "execution_count": 48,
   "metadata": {},
   "outputs": [
    {
     "data": {
      "text/plain": [
       "('jklm', 'k')"
      ]
     },
     "execution_count": 48,
     "metadata": {},
     "output_type": "execute_result"
    }
   ],
   "source": [
    "a, *_, b = tpl   # same as a, _, _, b = tpl\n",
    "a, b"
   ]
  },
  {
   "cell_type": "markdown",
   "metadata": {},
   "source": [
    "## Аргументы по ссылке или по значению?"
   ]
  },
  {
   "cell_type": "markdown",
   "metadata": {},
   "source": [
    "Пример для C++: https://repl.it/@vbugaevskii/ValueVsRefernceCpp\n",
    "\n",
    "Пример для Java: https://repl.it/@vbugaevskii/ValueVsRefernceJava"
   ]
  },
  {
   "cell_type": "markdown",
   "metadata": {},
   "source": [
    "Как вообразить себе передачу по ссылке, если я еще не был знаком с Java и Python, но знаком с C++?\n",
    "\n",
    "1. Создается ссылка `refA` на объект `objA`;\n",
    "2. Ссылка `refA` передается в функцию по значению, т.е. создается копия `copyRefA`.\n",
    "\n",
    "Поэтому чтобы изменить объект `objA` по ссылке `copyRefA`, нужно вызвать метод меняющий содержимое `objA`, либо \"явно обратиться\" к данным `objA` через ссылку `copyRefA`.\n",
    "\n",
    "`copyRefA = copyRefB` означает, что `copyRefA` теперь совпадает c `copyRefB` и указывает на объект B.\n",
    "\n",
    "Объекты неизменяемых типов, например, `int`, `float`, `complex`, `str`, `unicode`, `tuple` и др., нельзя поменять внутри функции. Можно вернуть лишь новую версию объекта.\n",
    "\n",
    "В документации к Python такая передача аргументов именутся, как *pass by assignment*."
   ]
  },
  {
   "cell_type": "code",
   "execution_count": 28,
   "metadata": {},
   "outputs": [
    {
     "data": {
      "text/plain": [
       "([1, 2, 3], [1, 2, 3], 4492019272, 4492019272)"
      ]
     },
     "execution_count": 28,
     "metadata": {},
     "output_type": "execute_result"
    }
   ],
   "source": [
    "a = [1, 2, 3]\n",
    "b = a\n",
    "\n",
    "a, b, id(a), id(b)"
   ]
  },
  {
   "cell_type": "code",
   "execution_count": 23,
   "metadata": {},
   "outputs": [
    {
     "data": {
      "text/plain": [
       "([1, 2, 3, 4], 5)"
      ]
     },
     "execution_count": 23,
     "metadata": {},
     "output_type": "execute_result"
    }
   ],
   "source": [
    "a = [1, 2, 3]\n",
    "b = 5\n",
    "\n",
    "def func(x, y):\n",
    "    x.append(4)\n",
    "    y += 1\n",
    "    \n",
    "func(a, b)\n",
    "a, b"
   ]
  },
  {
   "cell_type": "code",
   "execution_count": 24,
   "metadata": {},
   "outputs": [
    {
     "data": {
      "text/plain": [
       "([1, 2, 3], [4, 5, 6])"
      ]
     },
     "execution_count": 24,
     "metadata": {},
     "output_type": "execute_result"
    }
   ],
   "source": [
    "a = [1, 2, 3]\n",
    "b = [4, 5, 6]\n",
    "\n",
    "def swap(x, y):\n",
    "    x, y = y, x\n",
    "    \n",
    "swap(a, b)\n",
    "a, b"
   ]
  },
  {
   "cell_type": "code",
   "execution_count": 25,
   "metadata": {},
   "outputs": [
    {
     "data": {
      "text/plain": [
       "([4, 5, 6], [1, 2, 3])"
      ]
     },
     "execution_count": 25,
     "metadata": {},
     "output_type": "execute_result"
    }
   ],
   "source": [
    "a = [1, 2, 3]\n",
    "b = [4, 5, 6]\n",
    "\n",
    "def swap(x, y):\n",
    "    x[:], y[:] = y[:], x[:]\n",
    "    \n",
    "swap(a, b)\n",
    "a, b"
   ]
  },
  {
   "cell_type": "code",
   "execution_count": 26,
   "metadata": {},
   "outputs": [
    {
     "data": {
      "text/plain": [
       "([4, 5, 6], [4, 5, 6])"
      ]
     },
     "execution_count": 26,
     "metadata": {},
     "output_type": "execute_result"
    }
   ],
   "source": [
    "a = [1, 2, 3]\n",
    "b = [4, 5, 6]\n",
    "\n",
    "def swap(x, y):\n",
    "    x[:], y[:] = y, x\n",
    "    \n",
    "swap(a, b)\n",
    "a, b"
   ]
  },
  {
   "cell_type": "code",
   "execution_count": 27,
   "metadata": {},
   "outputs": [
    {
     "name": "stdout",
     "output_type": "stream",
     "text": [
      "a = (['maddnes'],); id(a) = 4491810240\n",
      "b = (['maddnes'],); id(b) = 4491810240\n"
     ]
    },
    {
     "data": {
      "text/plain": [
       "True"
      ]
     },
     "execution_count": 27,
     "metadata": {},
     "output_type": "execute_result"
    }
   ],
   "source": [
    "def change_tuple(a):\n",
    "    # явное обращение к данным\n",
    "    a[0].append('maddnes')\n",
    "    return a\n",
    "    \n",
    "a = ([], )\n",
    "b = change_tuple(a)\n",
    "\n",
    "print(\"a = {}; id(a) = {}\".format(repr(a), id(a)))\n",
    "print(\"b = {}; id(b) = {}\".format(repr(b), id(b)))\n",
    "\n",
    "a is b"
   ]
  },
  {
   "cell_type": "markdown",
   "metadata": {},
   "source": [
    "## Область видимости"
   ]
  },
  {
   "cell_type": "markdown",
   "metadata": {},
   "source": [
    "Основное правило поиска **LEGB**: Local -> Enclosed -> Global -> Built-in\n",
    "\n",
    "Области видимости относительно функции `foo`.\n",
    "\n",
    "```python\n",
    "# global\n",
    "\n",
    "def bar():\n",
    "    # enclosed\n",
    "    \n",
    "    def foo():\n",
    "        pass # local\n",
    "        \n",
    "    # enclosed\n",
    "    return foo\n",
    "\n",
    "# global\n",
    "```"
   ]
  },
  {
   "cell_type": "code",
   "execution_count": 58,
   "metadata": {},
   "outputs": [
    {
     "name": "stdout",
     "output_type": "stream",
     "text": [
      "[local]\t\t GLOBAL\n"
     ]
    }
   ],
   "source": [
    "result = \"GLOBAL\"\n",
    "\n",
    "def func():\n",
    "    print(\"[local]\\t\\t\", result)\n",
    "\n",
    "func()"
   ]
  },
  {
   "cell_type": "code",
   "execution_count": 59,
   "metadata": {},
   "outputs": [
    {
     "name": "stdout",
     "output_type": "stream",
     "text": [
      "[global]\t GLOBAL\n",
      "[local]\t\t LOCAL\n",
      "[global]\t GLOBAL\n"
     ]
    }
   ],
   "source": [
    "result = \"GLOBAL\"\n",
    "\n",
    "def func():\n",
    "    result = \"LOCAL\"\n",
    "    print(\"[local]\\t\\t\", result)\n",
    "\n",
    "print(\"[global]\\t\", result)\n",
    "func()\n",
    "print(\"[global]\\t\", result)"
   ]
  },
  {
   "cell_type": "code",
   "execution_count": 60,
   "metadata": {},
   "outputs": [
    {
     "name": "stdout",
     "output_type": "stream",
     "text": [
      "[global]\t GLOBAL\n",
      "[local]\t\t LOCAL\n",
      "[global]\t LOCAL\n"
     ]
    }
   ],
   "source": [
    "result = \"GLOBAL\"\n",
    "\n",
    "def func():\n",
    "    global result     # разрешает менять значение глобальной переменной\n",
    "    result = \"LOCAL\"\n",
    "    print(\"[local]\\t\\t\", result)\n",
    "\n",
    "print(\"[global]\\t\", result)\n",
    "func()\n",
    "print(\"[global]\\t\", result)"
   ]
  },
  {
   "cell_type": "code",
   "execution_count": 61,
   "metadata": {},
   "outputs": [
    {
     "name": "stdout",
     "output_type": "stream",
     "text": [
      "[global]\t GLOBAL\n"
     ]
    },
    {
     "ename": "UnboundLocalError",
     "evalue": "local variable 'result' referenced before assignment",
     "output_type": "error",
     "traceback": [
      "\u001b[0;31m---------------------------------------------------------------------------\u001b[0m",
      "\u001b[0;31mUnboundLocalError\u001b[0m                         Traceback (most recent call last)",
      "\u001b[0;32m<ipython-input-61-514e498e5e73>\u001b[0m in \u001b[0;36m<module>\u001b[0;34m\u001b[0m\n\u001b[1;32m      7\u001b[0m \u001b[0;34m\u001b[0m\u001b[0m\n\u001b[1;32m      8\u001b[0m \u001b[0mprint\u001b[0m\u001b[0;34m(\u001b[0m\u001b[0;34m\"[global]\\t\"\u001b[0m\u001b[0;34m,\u001b[0m \u001b[0mresult\u001b[0m\u001b[0;34m)\u001b[0m\u001b[0;34m\u001b[0m\u001b[0;34m\u001b[0m\u001b[0m\n\u001b[0;32m----> 9\u001b[0;31m \u001b[0mfunc\u001b[0m\u001b[0;34m(\u001b[0m\u001b[0;34m)\u001b[0m\u001b[0;34m\u001b[0m\u001b[0;34m\u001b[0m\u001b[0m\n\u001b[0m\u001b[1;32m     10\u001b[0m \u001b[0mprint\u001b[0m\u001b[0;34m(\u001b[0m\u001b[0;34m\"[global]\\t\"\u001b[0m\u001b[0;34m,\u001b[0m \u001b[0mresult\u001b[0m\u001b[0;34m)\u001b[0m\u001b[0;34m\u001b[0m\u001b[0;34m\u001b[0m\u001b[0m\n",
      "\u001b[0;32m<ipython-input-61-514e498e5e73>\u001b[0m in \u001b[0;36mfunc\u001b[0;34m()\u001b[0m\n\u001b[1;32m      2\u001b[0m \u001b[0;34m\u001b[0m\u001b[0m\n\u001b[1;32m      3\u001b[0m \u001b[0;32mdef\u001b[0m \u001b[0mfunc\u001b[0m\u001b[0;34m(\u001b[0m\u001b[0;34m)\u001b[0m\u001b[0;34m:\u001b[0m\u001b[0;34m\u001b[0m\u001b[0;34m\u001b[0m\u001b[0m\n\u001b[0;32m----> 4\u001b[0;31m     \u001b[0mprint\u001b[0m\u001b[0;34m(\u001b[0m\u001b[0;34m\"[local]\\t\\t\"\u001b[0m\u001b[0;34m,\u001b[0m \u001b[0mresult\u001b[0m\u001b[0;34m)\u001b[0m\u001b[0;34m\u001b[0m\u001b[0;34m\u001b[0m\u001b[0m\n\u001b[0m\u001b[1;32m      5\u001b[0m     \u001b[0mresult\u001b[0m \u001b[0;34m=\u001b[0m \u001b[0;34m\"LOCAL\"\u001b[0m\u001b[0;34m\u001b[0m\u001b[0;34m\u001b[0m\u001b[0m\n\u001b[1;32m      6\u001b[0m     \u001b[0mprint\u001b[0m\u001b[0;34m(\u001b[0m\u001b[0;34m\"[local]\\t\\t\"\u001b[0m\u001b[0;34m,\u001b[0m \u001b[0mresult\u001b[0m\u001b[0;34m)\u001b[0m\u001b[0;34m\u001b[0m\u001b[0;34m\u001b[0m\u001b[0m\n",
      "\u001b[0;31mUnboundLocalError\u001b[0m: local variable 'result' referenced before assignment"
     ]
    }
   ],
   "source": [
    "result = \"GLOBAL\"\n",
    "\n",
    "def func():\n",
    "    print(\"[local]\\t\\t\", result)\n",
    "    result = \"LOCAL\"\n",
    "    print(\"[local]\\t\\t\", result)\n",
    "\n",
    "print(\"[global]\\t\", result)\n",
    "func()\n",
    "print(\"[global]\\t\", result)"
   ]
  },
  {
   "cell_type": "code",
   "execution_count": 62,
   "metadata": {},
   "outputs": [
    {
     "name": "stdout",
     "output_type": "stream",
     "text": [
      "[global]\t GLOBAL\n",
      "[enclosed]\t ENCLOSED\n",
      "[local]\t\t LOCAL\n",
      "[enclosed]\t ENCLOSED\n",
      "[global]\t GLOBAL\n"
     ]
    }
   ],
   "source": [
    "result = 'GLOBAL'\n",
    "\n",
    "def func_outer():  # outer function\n",
    "    result = 'ENCLOSED'\n",
    "    print(\"[enclosed]\\t\", result)\n",
    "\n",
    "    def func():    # nested (inner) function\n",
    "        result = 'LOCAL'\n",
    "        print(\"[local]\\t\\t\", result)\n",
    "\n",
    "    func()\n",
    "    print(\"[enclosed]\\t\", result)\n",
    "\n",
    "print(\"[global]\\t\", result)\n",
    "func_outer()\n",
    "print(\"[global]\\t\", result)"
   ]
  },
  {
   "cell_type": "code",
   "execution_count": 63,
   "metadata": {},
   "outputs": [
    {
     "name": "stdout",
     "output_type": "stream",
     "text": [
      "[global]\t GLOBAL\n",
      "[enclosed]\t ENCLOSED\n",
      "[local]\t\t LOCAL\n",
      "[enclosed]\t ENCLOSED\n",
      "[global]\t LOCAL\n"
     ]
    }
   ],
   "source": [
    "result = 'GLOBAL'\n",
    "\n",
    "def func_outer():\n",
    "    result = 'ENCLOSED'\n",
    "    print(\"[enclosed]\\t\", result)\n",
    "    \n",
    "    def func():\n",
    "        global result\n",
    "        result = 'LOCAL'\n",
    "        print(\"[local]\\t\\t\", result)\n",
    "        \n",
    "    func()\n",
    "    print(\"[enclosed]\\t\", result)\n",
    "\n",
    "print(\"[global]\\t\", result)\n",
    "func_outer()\n",
    "print(\"[global]\\t\", result)"
   ]
  },
  {
   "cell_type": "code",
   "execution_count": 29,
   "metadata": {},
   "outputs": [
    {
     "name": "stdout",
     "output_type": "stream",
     "text": [
      "[global]\t GLOBAL\n",
      "[enclosed]\t ENCLOSED\n",
      "[local]\t\t LOCAL\n",
      "[enclosed]\t LOCAL\n",
      "[global]\t GLOBAL\n"
     ]
    }
   ],
   "source": [
    "result = 'GLOBAL'\n",
    "\n",
    "def func_outer():\n",
    "    result = 'ENCLOSED'\n",
    "    print(\"[enclosed]\\t\", result)\n",
    "    \n",
    "    def func():\n",
    "        nonlocal result   # разрешает менять значение enclosed переменной\n",
    "        result = 'LOCAL'\n",
    "        print(\"[local]\\t\\t\", result)\n",
    "        \n",
    "    func()\n",
    "    print(\"[enclosed]\\t\", result)\n",
    "\n",
    "print(\"[global]\\t\", result)\n",
    "func_outer()\n",
    "print(\"[global]\\t\", result)"
   ]
  },
  {
   "cell_type": "code",
   "execution_count": 35,
   "metadata": {},
   "outputs": [
    {
     "name": "stdout",
     "output_type": "stream",
     "text": [
      "[global]\t GLOBAL\n",
      "closure: (<cell at 0x10c714df8: str object at 0x10a628bf0>,)\n",
      "closure content: ENCLOSED\n",
      "[global]\t GLOBAL\n"
     ]
    }
   ],
   "source": [
    "result = 'GLOBAL'\n",
    "\n",
    "def func_outer():\n",
    "    result = 'ENCLOSED'\n",
    "    \n",
    "    def func():\n",
    "        nonlocal result   # разрешает менять значение enclosed переменной\n",
    "        result = 'LOCAL'\n",
    "    \n",
    "    print(\"closure:\", func.__closure__)\n",
    "    print(\"closure content:\", func.__closure__[0].cell_contents)\n",
    "    \n",
    "    func()\n",
    "\n",
    "print(\"[global]\\t\", result)\n",
    "func_outer()\n",
    "print(\"[global]\\t\", result)"
   ]
  },
  {
   "cell_type": "markdown",
   "metadata": {},
   "source": [
    "## Аргументы по-умолчанию"
   ]
  },
  {
   "cell_type": "code",
   "execution_count": 65,
   "metadata": {},
   "outputs": [
    {
     "name": "stdout",
     "output_type": "stream",
     "text": [
      "9\n",
      "5\n"
     ]
    }
   ],
   "source": [
    "def sum_list(a, start_with=0):\n",
    "    return sum(a[start_with:])\n",
    "\n",
    "print(sum_list([4, 2, 3]))\n",
    "print(sum_list([4, 2, 3], start_with=1))"
   ]
  },
  {
   "cell_type": "code",
   "execution_count": 66,
   "metadata": {},
   "outputs": [
    {
     "ename": "SyntaxError",
     "evalue": "non-default argument follows default argument (<ipython-input-66-acd466c9b88b>, line 1)",
     "output_type": "error",
     "traceback": [
      "\u001b[0;36m  File \u001b[0;32m\"<ipython-input-66-acd466c9b88b>\"\u001b[0;36m, line \u001b[0;32m1\u001b[0m\n\u001b[0;31m    def sum_list(start_with=0, a):\u001b[0m\n\u001b[0m                ^\u001b[0m\n\u001b[0;31mSyntaxError\u001b[0m\u001b[0;31m:\u001b[0m non-default argument follows default argument\n"
     ]
    }
   ],
   "source": [
    "def sum_list(start_with=0, a):\n",
    "    return sum(a[start_with:])"
   ]
  },
  {
   "cell_type": "markdown",
   "metadata": {},
   "source": [
    "### Ожидание vs. Реальность"
   ]
  },
  {
   "cell_type": "code",
   "execution_count": 67,
   "metadata": {},
   "outputs": [],
   "source": [
    "def append_one_list(a=[]):\n",
    "    print(\"\\tBefore:\", a)\n",
    "    a.append(1)\n",
    "    print(\"\\tAfter: \", a)"
   ]
  },
  {
   "cell_type": "code",
   "execution_count": 68,
   "metadata": {},
   "outputs": [
    {
     "name": "stdout",
     "output_type": "stream",
     "text": [
      "Before: [1, 2, 3]\n",
      "==============================\n",
      "\tBefore: [1, 2, 3]\n",
      "\tAfter:  [1, 2, 3, 1]\n",
      "\tBefore: [1, 2, 3, 1]\n",
      "\tAfter:  [1, 2, 3, 1, 1]\n",
      "\tBefore: [1, 2, 3, 1, 1]\n",
      "\tAfter:  [1, 2, 3, 1, 1, 1]\n",
      "==============================\n",
      "After:  [1, 2, 3, 1, 1, 1]\n"
     ]
    }
   ],
   "source": [
    "a = [1, 2, 3]\n",
    "\n",
    "print(\"Before:\", a)\n",
    "print(\"=\" * 30)\n",
    "append_one_list(a)\n",
    "append_one_list(a)\n",
    "append_one_list(a)\n",
    "print(\"=\" * 30)\n",
    "print(\"After: \", a)"
   ]
  },
  {
   "cell_type": "code",
   "execution_count": 69,
   "metadata": {},
   "outputs": [
    {
     "name": "stdout",
     "output_type": "stream",
     "text": [
      "Before: None\n",
      "==============================\n",
      "\tBefore: []\n",
      "\tAfter:  [1]\n",
      "\tBefore: [1]\n",
      "\tAfter:  [1, 1]\n",
      "\tBefore: [1, 1]\n",
      "\tAfter:  [1, 1, 1]\n",
      "==============================\n",
      "After:  None\n"
     ]
    }
   ],
   "source": [
    "print(\"Before:\", None)\n",
    "print(\"=\" * 30)\n",
    "append_one_list()\n",
    "append_one_list()\n",
    "append_one_list()\n",
    "print(\"=\" * 30)\n",
    "print(\"After: \", None)"
   ]
  },
  {
   "cell_type": "code",
   "execution_count": 70,
   "metadata": {},
   "outputs": [
    {
     "data": {
      "text/plain": [
       "([1, 1, 1],)"
      ]
     },
     "execution_count": 70,
     "metadata": {},
     "output_type": "execute_result"
    }
   ],
   "source": [
    "append_one_list.__defaults__"
   ]
  },
  {
   "cell_type": "code",
   "execution_count": 71,
   "metadata": {},
   "outputs": [],
   "source": [
    "def append_one_list(a=None):\n",
    "    if a is None:\n",
    "        a = []\n",
    "    \n",
    "    print(\"\\tBefore:\", a)\n",
    "    a.append(1)\n",
    "    print(\"\\tAfter: \", a)\n",
    "\n",
    "\n",
    "def append_one_list(a=None):\n",
    "    # Подумайте, почему это работает? Какие минусы есть у такого варианта?\n",
    "    # Нужны ли какие-то дополнительные предположения о входном списке a?\n",
    "    a = a or []\n",
    "    \n",
    "    print(\"\\tBefore:\", a)\n",
    "    a.append(1)\n",
    "    print(\"\\tAfter: \", a)"
   ]
  },
  {
   "cell_type": "code",
   "execution_count": 72,
   "metadata": {},
   "outputs": [
    {
     "name": "stdout",
     "output_type": "stream",
     "text": [
      "Before: [1, 2, 3]\n",
      "==============================\n",
      "\tBefore: [1, 2, 3]\n",
      "\tAfter:  [1, 2, 3, 1]\n",
      "\tBefore: [1, 2, 3, 1]\n",
      "\tAfter:  [1, 2, 3, 1, 1]\n",
      "\tBefore: [1, 2, 3, 1, 1]\n",
      "\tAfter:  [1, 2, 3, 1, 1, 1]\n",
      "==============================\n",
      "After:  [1, 2, 3, 1, 1, 1]\n"
     ]
    }
   ],
   "source": [
    "a = [1, 2, 3]\n",
    "\n",
    "print(\"Before:\", a)\n",
    "print(\"=\" * 30)\n",
    "append_one_list(a)\n",
    "append_one_list(a)\n",
    "append_one_list(a)\n",
    "print(\"=\" * 30)\n",
    "print(\"After: \", a)"
   ]
  },
  {
   "cell_type": "code",
   "execution_count": 73,
   "metadata": {},
   "outputs": [
    {
     "name": "stdout",
     "output_type": "stream",
     "text": [
      "Before: None\n",
      "==============================\n",
      "\tBefore: []\n",
      "\tAfter:  [1]\n",
      "\tBefore: []\n",
      "\tAfter:  [1]\n",
      "\tBefore: []\n",
      "\tAfter:  [1]\n",
      "==============================\n",
      "After:  None\n"
     ]
    }
   ],
   "source": [
    "print(\"Before:\", None)\n",
    "print(\"=\" * 30)\n",
    "append_one_list()\n",
    "append_one_list()\n",
    "append_one_list()\n",
    "print(\"=\" * 30)\n",
    "print(\"After: \", None)"
   ]
  },
  {
   "cell_type": "markdown",
   "metadata": {},
   "source": [
    "# Элементы функционального программирования"
   ]
  },
  {
   "cell_type": "markdown",
   "metadata": {},
   "source": [
    "## Анонимные функции (или lambda-функции)"
   ]
  },
  {
   "cell_type": "code",
   "execution_count": 74,
   "metadata": {},
   "outputs": [],
   "source": [
    "result = {\n",
    "    'a': 1,\n",
    "    'b': 3,\n",
    "    'c': 2,\n",
    "    'd': 5,\n",
    "    'f': 4,\n",
    "}"
   ]
  },
  {
   "cell_type": "code",
   "execution_count": 75,
   "metadata": {},
   "outputs": [
    {
     "data": {
      "text/plain": [
       "[('f', 4), ('d', 5), ('c', 2), ('b', 3), ('a', 1)]"
      ]
     },
     "execution_count": 75,
     "metadata": {},
     "output_type": "execute_result"
    }
   ],
   "source": [
    "sorted(result.items(), reverse=True)"
   ]
  },
  {
   "cell_type": "code",
   "execution_count": 76,
   "metadata": {},
   "outputs": [
    {
     "name": "stdout",
     "output_type": "stream",
     "text": [
      "<class 'function'>\n"
     ]
    },
    {
     "data": {
      "text/plain": [
       "[('d', 5), ('f', 4), ('b', 3), ('c', 2), ('a', 1)]"
      ]
     },
     "execution_count": 76,
     "metadata": {},
     "output_type": "execute_result"
    }
   ],
   "source": [
    "def func_key(pair):\n",
    "    return pair[1]\n",
    "\n",
    "print(type(func_key))\n",
    "\n",
    "sorted(result.items(), key=func_key, reverse=True)"
   ]
  },
  {
   "cell_type": "code",
   "execution_count": 77,
   "metadata": {},
   "outputs": [
    {
     "data": {
      "text/plain": [
       "[('d', 5), ('f', 4), ('b', 3), ('c', 2), ('a', 1)]"
      ]
     },
     "execution_count": 77,
     "metadata": {},
     "output_type": "execute_result"
    }
   ],
   "source": [
    "sorted(result.items(), key=lambda pair: pair[1], reverse=True)"
   ]
  },
  {
   "cell_type": "markdown",
   "metadata": {},
   "source": [
    "Мнемоническое правило:\n",
    "\n",
    "```python\n",
    "def <lambda>(pair):\n",
    "    return pair[1]\n",
    "```"
   ]
  },
  {
   "cell_type": "code",
   "execution_count": 78,
   "metadata": {},
   "outputs": [
    {
     "name": "stdout",
     "output_type": "stream",
     "text": [
      "<class 'function'>\n"
     ]
    }
   ],
   "source": [
    "func = lambda pair: pair[1]\n",
    "print(type(func))"
   ]
  },
  {
   "cell_type": "code",
   "execution_count": 79,
   "metadata": {},
   "outputs": [
    {
     "data": {
      "text/plain": [
       "[('d', 5), ('f', 4), ('b', 3), ('c', 2), ('a', 1)]"
      ]
     },
     "execution_count": 79,
     "metadata": {},
     "output_type": "execute_result"
    }
   ],
   "source": [
    "from operator import itemgetter\n",
    "\n",
    "sorted(result.items(), key=itemgetter(1), reverse=True)"
   ]
  },
  {
   "cell_type": "code",
   "execution_count": 80,
   "metadata": {},
   "outputs": [
    {
     "data": {
      "text/plain": [
       "[-5, -4, -3, -2, -1, 0, 1, 2, 3, 4]"
      ]
     },
     "execution_count": 80,
     "metadata": {},
     "output_type": "execute_result"
    }
   ],
   "source": [
    "a = list(range(-5, 5))\n",
    "a"
   ]
  },
  {
   "cell_type": "code",
   "execution_count": 81,
   "metadata": {},
   "outputs": [
    {
     "data": {
      "text/plain": [
       "[0, -1, 1, -2, 2, -3, 3, -4, 4, -5]"
      ]
     },
     "execution_count": 81,
     "metadata": {},
     "output_type": "execute_result"
    }
   ],
   "source": [
    "sorted(a, key=lambda x: x**2)"
   ]
  },
  {
   "cell_type": "code",
   "execution_count": 82,
   "metadata": {},
   "outputs": [
    {
     "data": {
      "text/plain": [
       "[('a', 1), ('c', 2), ('b', 3), ('f', 4), ('d', 5)]"
      ]
     },
     "execution_count": 82,
     "metadata": {},
     "output_type": "execute_result"
    }
   ],
   "source": [
    "import functools\n",
    "\n",
    "func = functools.partial(sorted, key=itemgetter(1))\n",
    "func(result.items())"
   ]
  },
  {
   "cell_type": "code",
   "execution_count": 83,
   "metadata": {},
   "outputs": [
    {
     "data": {
      "text/plain": [
       "[<function __main__.<lambda>(x)>,\n",
       " <function __main__.<lambda>(x, y)>,\n",
       " <function __main__.<lambda>(s)>,\n",
       " <function __main__.<lambda>(*a)>,\n",
       " <function __main__.<lambda>(**a)>,\n",
       " <function __main__.<lambda>(*a, **b)>]"
      ]
     },
     "execution_count": 83,
     "metadata": {},
     "output_type": "execute_result"
    }
   ],
   "source": [
    "[\n",
    "    lambda x: x ** 2,\n",
    "    lambda x, y: x < y,\n",
    "    lambda s: s.strip().split(),\n",
    "    lambda *a: len(a),\n",
    "    lambda **a: 'key' in a,\n",
    "    lambda *a, **b: len(a) + len(b),\n",
    "]"
   ]
  },
  {
   "cell_type": "markdown",
   "metadata": {},
   "source": [
    "## Функция map"
   ]
  },
  {
   "cell_type": "code",
   "execution_count": 84,
   "metadata": {},
   "outputs": [
    {
     "name": "stdout",
     "output_type": "stream",
     "text": [
      "[0, 1, 2, 3, 4, 5, 6, 7, 8, 9]\n",
      "[0, 1, 4, 9, 16, 25, 36, 49, 64, 81]\n"
     ]
    },
    {
     "data": {
      "text/plain": [
       "<map at 0x10a47d2b0>"
      ]
     },
     "execution_count": 84,
     "metadata": {},
     "output_type": "execute_result"
    }
   ],
   "source": [
    "result_a = range(10)\n",
    "result_b = map(lambda x: x ** 2, result_a)\n",
    "\n",
    "print(list(result_a))\n",
    "print(list(result_b))\n",
    "\n",
    "result_b"
   ]
  },
  {
   "cell_type": "code",
   "execution_count": 85,
   "metadata": {},
   "outputs": [
    {
     "data": {
      "text/plain": [
       "['a', 'b', 'c', 'd', 'f']"
      ]
     },
     "execution_count": 85,
     "metadata": {},
     "output_type": "execute_result"
    }
   ],
   "source": [
    "result = [\n",
    "    ('a', 1),\n",
    "    ('b', 3),\n",
    "    ('c', 2),\n",
    "    ('d', 5),\n",
    "    ('f', 4),\n",
    "]\n",
    "\n",
    "list(map(itemgetter(0), result))"
   ]
  },
  {
   "cell_type": "code",
   "execution_count": 86,
   "metadata": {},
   "outputs": [
    {
     "data": {
      "text/plain": [
       "[1, 2, 3, 4, 5, 6]"
      ]
     },
     "execution_count": 86,
     "metadata": {},
     "output_type": "execute_result"
    }
   ],
   "source": [
    "result = '1,2,3,4,5,6\\n'\n",
    "\n",
    "list(map(int, result.split(',')))"
   ]
  },
  {
   "cell_type": "code",
   "execution_count": 87,
   "metadata": {},
   "outputs": [
    {
     "data": {
      "text/plain": [
       "[101, 100, 117, 99, 97, 116, 105, 111, 110]"
      ]
     },
     "execution_count": 87,
     "metadata": {},
     "output_type": "execute_result"
    }
   ],
   "source": [
    "list(map(ord, 'education'))"
   ]
  },
  {
   "cell_type": "code",
   "execution_count": 88,
   "metadata": {},
   "outputs": [
    {
     "name": "stdout",
     "output_type": "stream",
     "text": [
      "{\"title\": \"В Сети появилось видео потасовки в Верховной раде\", \"description\": \"В интернете появилась видеозапись, на которой запечатлена потасовка между народным депутатом Владимиром Парасюком и депутатами Оппозиционного блока . На видео видно, как Парасюк прерывает ...\", \"keywords\": [\"Выступление\", \"Депутат\", \"Колесников\", \"Ситуация\", \"Требовать\", \"Садовый\", \"Колесник\", \"Украинский\", \"Говорить\", \"Владимир\", \"Высказывать\", \"Критиковать\", \"Результат\", \"Устроить\", \"Столкновение\", \"Проблема\", \"Антиукраинский\", \"Прерывать\", \"Народный\", \"Полигон\"], \"tags\": [\"вершина\", \"драка\", \"потасовка\", \"«Оппозиционный блок»\"], \"url\": \"https://www.rbc.ru/rbcfreenews/576169b99a7947071ca21201\", \"rubric\": \"Политика\", \"is_ok\": true} \r\n",
      "{\"title\": \"Приставы забрали у Ходорковского в бюджет 750 тыс. руб. \", \"description\": \"Судебные приставы не дали перевести Михаилу Ходорковскому компенсацию в €10 тыс., присужденную ЕСПЧ. Сумма пошла на погашение его долга перед бюджетом, тогда как сам Ходорковский надеялся отдать ее на благотворительность\", \"keywords\": [\"Ходорковский\", \"Компенсация\", \"Лебедев\", \"Федеральный\", \"Российский\", \"Исполнительный\", \"Перечислить\", \"Налоговый\", \"Судебный\", \"Производство\", \"Взыскание\", \"Пристав\", \"Присуждение\", \"Сообщение\", \"Говориться\", \"Признанный\", \"Моральный\", \"Взыскать\", \"Отношение\", \"Человек\"], \"tags\": [\"Михаил Ходорковский\", \"судебные приставы\", \"ЕСПЧ\"], \"url\": \"https://www.rbc.ru/economics/07/06/2016/57569e189a79477f21644b3a\", \"rubric\": \"«Дело ЮКОСа»\", \"is_ok\": true} \r\n"
     ]
    }
   ],
   "source": [
    "# !zcat files/example.jsonl.gz | head -n2   # unix\n",
    "!gzcat files/example.jsonl.gz | head -n2   # macos"
   ]
  },
  {
   "cell_type": "code",
   "execution_count": 89,
   "metadata": {},
   "outputs": [
    {
     "name": "stdout",
     "output_type": "stream",
     "text": [
      "Политика\n",
      "«Дело ЮКОСа»\n",
      "Обвал рынков\n",
      "Экономика\n",
      "Украинский кризис\n",
      "Мнение\n",
      "ПМЭФ — 2016\n",
      "Общество\n",
      "Общество\n",
      "Политика\n",
      "Политика\n",
      "Технологии и медиа\n",
      "Общество\n",
      "Бизнес\n",
      "Финансы\n",
      "Допинговый скандал\n",
      "Общество\n",
      "Возвращение Крыма\n",
      "Бизнес\n",
      "Общество\n"
     ]
    }
   ],
   "source": [
    "import gzip\n",
    "import json\n",
    "\n",
    "with gzip.open(\"files/example.jsonl.gz\", \"rb\") as f_name:\n",
    "    for record in map(json.loads, f_name):\n",
    "        print(record['rubric'], sep='\\t')"
   ]
  },
  {
   "cell_type": "markdown",
   "metadata": {},
   "source": [
    "<span style=\"color:blue;font-weight:bold\">Подумайте</span>, когда лучше использовать конструкцию:\n",
    "\n",
    "```python\n",
    "for record_str in f_name:\n",
    "    record = parse(record_str)\n",
    "    do_something(record)\n",
    "```\n",
    "\n",
    "вместо\n",
    "\n",
    "```python\n",
    "for record in map(parse, f_name):\n",
    "    do_something(record)\n",
    "```\n",
    "\n",
    "**Подсказка:** к верхнему примеру нужно еще дописать пару строчек, чтобы он в полной мере был оправдан :)"
   ]
  },
  {
   "cell_type": "code",
   "execution_count": 90,
   "metadata": {},
   "outputs": [],
   "source": [
    "import operator"
   ]
  },
  {
   "cell_type": "code",
   "execution_count": 91,
   "metadata": {},
   "outputs": [
    {
     "data": {
      "text/plain": [
       "[9, 11, 13]"
      ]
     },
     "execution_count": 91,
     "metadata": {},
     "output_type": "execute_result"
    }
   ],
   "source": [
    "result_a = [5, 6, 7]\n",
    "result_b = [4, 5, 6]\n",
    "\n",
    "list(map(operator.add, result_a, result_b))"
   ]
  },
  {
   "cell_type": "code",
   "execution_count": 92,
   "metadata": {},
   "outputs": [],
   "source": [
    "result = [(5, 4), (6, 5), (7, 6)]"
   ]
  },
  {
   "cell_type": "code",
   "execution_count": 93,
   "metadata": {},
   "outputs": [
    {
     "ename": "TypeError",
     "evalue": "<lambda>() missing 1 required positional argument: 'y'",
     "output_type": "error",
     "traceback": [
      "\u001b[0;31m---------------------------------------------------------------------------\u001b[0m",
      "\u001b[0;31mTypeError\u001b[0m                                 Traceback (most recent call last)",
      "\u001b[0;32m<ipython-input-93-cd0bf2c166d0>\u001b[0m in \u001b[0;36m<module>\u001b[0;34m\u001b[0m\n\u001b[0;32m----> 1\u001b[0;31m \u001b[0mlist\u001b[0m\u001b[0;34m(\u001b[0m\u001b[0mmap\u001b[0m\u001b[0;34m(\u001b[0m\u001b[0;32mlambda\u001b[0m \u001b[0mx\u001b[0m\u001b[0;34m,\u001b[0m \u001b[0my\u001b[0m\u001b[0;34m:\u001b[0m \u001b[0mx\u001b[0m \u001b[0;34m+\u001b[0m \u001b[0my\u001b[0m\u001b[0;34m,\u001b[0m \u001b[0mresult\u001b[0m\u001b[0;34m)\u001b[0m\u001b[0;34m)\u001b[0m\u001b[0;34m\u001b[0m\u001b[0;34m\u001b[0m\u001b[0m\n\u001b[0m",
      "\u001b[0;31mTypeError\u001b[0m: <lambda>() missing 1 required positional argument: 'y'"
     ]
    }
   ],
   "source": [
    "list(map(lambda x, y: x + y, result))"
   ]
  },
  {
   "cell_type": "code",
   "execution_count": 94,
   "metadata": {},
   "outputs": [
    {
     "ename": "SyntaxError",
     "evalue": "invalid syntax (<ipython-input-94-988a486c5318>, line 1)",
     "output_type": "error",
     "traceback": [
      "\u001b[0;36m  File \u001b[0;32m\"<ipython-input-94-988a486c5318>\"\u001b[0;36m, line \u001b[0;32m1\u001b[0m\n\u001b[0;31m    list(map(lambda (x, y): x + y, result))\u001b[0m\n\u001b[0m                    ^\u001b[0m\n\u001b[0;31mSyntaxError\u001b[0m\u001b[0;31m:\u001b[0m invalid syntax\n"
     ]
    }
   ],
   "source": [
    "list(map(lambda (x, y): x + y, result))"
   ]
  },
  {
   "cell_type": "markdown",
   "metadata": {},
   "source": [
    "В стандарте больше нет поддержки кортежей как аргументов, см. [PEP-3113](https://www.python.org/dev/peps/pep-3113/)."
   ]
  },
  {
   "cell_type": "code",
   "execution_count": 95,
   "metadata": {},
   "outputs": [
    {
     "name": "stdout",
     "output_type": "stream",
     "text": [
      "Couldn't find program: 'python2'\n"
     ]
    }
   ],
   "source": [
    "%%python2\n",
    "\n",
    "from __future__ import print_function\n",
    "\n",
    "result = [(5, 4), (6, 5), (7, 6)]\n",
    "result = map(lambda (x, y): x + y, result)\n",
    "\n",
    "print(*result)"
   ]
  },
  {
   "cell_type": "code",
   "execution_count": 96,
   "metadata": {},
   "outputs": [
    {
     "data": {
      "text/plain": [
       "[9, 11, 13]"
      ]
     },
     "execution_count": 96,
     "metadata": {},
     "output_type": "execute_result"
    }
   ],
   "source": [
    "list(map(lambda p: p[0] + p[1], result))"
   ]
  },
  {
   "cell_type": "code",
   "execution_count": 97,
   "metadata": {},
   "outputs": [
    {
     "data": {
      "text/plain": [
       "[9, 11, 13]"
      ]
     },
     "execution_count": 97,
     "metadata": {},
     "output_type": "execute_result"
    }
   ],
   "source": [
    "from itertools import starmap\n",
    "\n",
    "list(starmap(operator.add, result))   # same as: list(map(lambda p: operator.add(*p), result))"
   ]
  },
  {
   "cell_type": "markdown",
   "metadata": {},
   "source": [
    "Пока вы не извлечете из map все элементы, ничего не будет работать."
   ]
  },
  {
   "cell_type": "code",
   "execution_count": 98,
   "metadata": {},
   "outputs": [
    {
     "data": {
      "text/plain": [
       "([], <map at 0x10a52e2e8>)"
      ]
     },
     "execution_count": 98,
     "metadata": {},
     "output_type": "execute_result"
    }
   ],
   "source": [
    "a = [] \n",
    "b = map(lambda e: a.append(len(a)), range(10)) \n",
    "a, b"
   ]
  },
  {
   "cell_type": "code",
   "execution_count": 99,
   "metadata": {},
   "outputs": [
    {
     "data": {
      "text/plain": [
       "([0, 1, 2, 3, 4, 5, 6, 7, 8, 9],\n",
       " <map at 0x10a52e2e8>,\n",
       " [None, None, None, None, None, None, None, None, None, None])"
      ]
     },
     "execution_count": 99,
     "metadata": {},
     "output_type": "execute_result"
    }
   ],
   "source": [
    "# попробуйте выполнить ячейку более одного раза ;)\n",
    "\n",
    "_ = list(b)\n",
    "a, b, _"
   ]
  },
  {
   "cell_type": "markdown",
   "metadata": {},
   "source": [
    "Пример сильно <span style=\"color:red;font-weight:bold\">перегруженного</span> кода:\n",
    "\n",
    "```python\n",
    "with gzip.open(\"files/example.jsonl.gz\", \"rb\") as f_name:\n",
    "    result = list(map(itemgetter('rubric'), map(json.loads, f_name)))\n",
    "```\n",
    "\n",
    "Пример <span style=\"color:blue;font-weight:bold\">хорошо</span> организованного кода:\n",
    "\n",
    "```python\n",
    "with gzip.open(\"files/example.jsonl.gz\", \"rb\") as f_name:\n",
    "    f_name = map(json.loads, f_name)\n",
    "    f_name = map(itemgetter('rubric'), f_name)\n",
    "    result = list(f_name)\n",
    "```"
   ]
  },
  {
   "cell_type": "markdown",
   "metadata": {},
   "source": [
    "## Функция filter"
   ]
  },
  {
   "cell_type": "code",
   "execution_count": 100,
   "metadata": {},
   "outputs": [
    {
     "data": {
      "text/plain": [
       "<filter at 0x10a52eba8>"
      ]
     },
     "execution_count": 100,
     "metadata": {},
     "output_type": "execute_result"
    }
   ],
   "source": [
    "filter(lambda x: x > 0, range(-5, 5))"
   ]
  },
  {
   "cell_type": "code",
   "execution_count": 101,
   "metadata": {},
   "outputs": [
    {
     "data": {
      "text/plain": [
       "[1, 2, 3, 4]"
      ]
     },
     "execution_count": 101,
     "metadata": {},
     "output_type": "execute_result"
    }
   ],
   "source": [
    "list(filter(lambda x: x > 0, range(-5, 5)))"
   ]
  },
  {
   "cell_type": "code",
   "execution_count": 102,
   "metadata": {},
   "outputs": [
    {
     "data": {
      "text/plain": [
       "[-5, -3, -1, 1, 3]"
      ]
     },
     "execution_count": 102,
     "metadata": {},
     "output_type": "execute_result"
    }
   ],
   "source": [
    "list(filter(lambda x: x % 2, range(-5, 5)))"
   ]
  },
  {
   "cell_type": "code",
   "execution_count": 103,
   "metadata": {},
   "outputs": [
    {
     "data": {
      "text/plain": [
       "['а', 'р', 'а', 'е', 'е', 'и', 'е', 'д']"
      ]
     },
     "execution_count": 103,
     "metadata": {},
     "output_type": "execute_result"
    }
   ],
   "source": [
    "list(filter(lambda x: x not in {'п', 'л'}, \"параллелепипед\"))"
   ]
  },
  {
   "cell_type": "markdown",
   "metadata": {},
   "source": [
    "`filter` для словарей."
   ]
  },
  {
   "cell_type": "code",
   "execution_count": 104,
   "metadata": {},
   "outputs": [],
   "source": [
    "result = {\n",
    "    'key1': 1,\n",
    "    'key2': 2,\n",
    "    'key3': 3,\n",
    "    'art': 'Hermitage',\n",
    "    'ord': 7,\n",
    "}"
   ]
  },
  {
   "cell_type": "code",
   "execution_count": 105,
   "metadata": {},
   "outputs": [
    {
     "data": {
      "text/plain": [
       "{'key1': 1, 'key2': 2, 'key3': 3}"
      ]
     },
     "execution_count": 105,
     "metadata": {},
     "output_type": "execute_result"
    }
   ],
   "source": [
    "{k: result[k] for k in filter(lambda k: k.startswith('key'), result)}"
   ]
  },
  {
   "cell_type": "code",
   "execution_count": 106,
   "metadata": {},
   "outputs": [
    {
     "data": {
      "text/plain": [
       "{'key1': 1, 'key2': 2, 'key3': 3}"
      ]
     },
     "execution_count": 106,
     "metadata": {},
     "output_type": "execute_result"
    }
   ],
   "source": [
    "dict(filter(lambda p: p[0].startswith('key'), result.items()))"
   ]
  },
  {
   "cell_type": "code",
   "execution_count": 107,
   "metadata": {},
   "outputs": [
    {
     "data": {
      "text/plain": [
       "{'key1': 1, 'key2': 2, 'key3': 3}"
      ]
     },
     "execution_count": 107,
     "metadata": {},
     "output_type": "execute_result"
    }
   ],
   "source": [
    "# предпочтительный вариант\n",
    "\n",
    "{k: v for k, v in result.items() if k.startswith('key')}"
   ]
  },
  {
   "cell_type": "markdown",
   "metadata": {},
   "source": [
    "## Функция reduce"
   ]
  },
  {
   "cell_type": "code",
   "execution_count": 108,
   "metadata": {},
   "outputs": [],
   "source": [
    "from functools import reduce"
   ]
  },
  {
   "cell_type": "code",
   "execution_count": 109,
   "metadata": {},
   "outputs": [],
   "source": [
    "def my_reduce(func, seq):\n",
    "    res = seq[0]\n",
    "    for elem in seq[1:]:\n",
    "        res = func(res, elem)\n",
    "    return res"
   ]
  },
  {
   "cell_type": "markdown",
   "metadata": {},
   "source": [
    "<img src=\"files/reduce.png\">"
   ]
  },
  {
   "cell_type": "code",
   "execution_count": 110,
   "metadata": {},
   "outputs": [
    {
     "name": "stdout",
     "output_type": "stream",
     "text": [
      "10\n",
      "24\n"
     ]
    }
   ],
   "source": [
    "print(my_reduce(lambda x, y: x + y, [1, 2, 3, 4]))\n",
    "print(my_reduce(lambda x, y: x * y, [1, 2, 3, 4]))"
   ]
  },
  {
   "cell_type": "code",
   "execution_count": 111,
   "metadata": {},
   "outputs": [
    {
     "name": "stdout",
     "output_type": "stream",
     "text": [
      "10\n",
      "24\n"
     ]
    }
   ],
   "source": [
    "print(reduce(lambda x, y: x + y, [1, 2, 3, 4]))\n",
    "print(reduce(lambda x, y: x * y, [1, 2, 3, 4]))"
   ]
  },
  {
   "cell_type": "code",
   "execution_count": 112,
   "metadata": {},
   "outputs": [
    {
     "name": "stdout",
     "output_type": "stream",
     "text": [
      "10\n",
      "24\n"
     ]
    }
   ],
   "source": [
    "from operator import add, mul\n",
    "\n",
    "print(reduce(add, [1, 2, 3, 4]))\n",
    "print(reduce(mul, [1, 2, 3, 4]))"
   ]
  },
  {
   "cell_type": "markdown",
   "metadata": {},
   "source": [
    "## Функция zip"
   ]
  },
  {
   "cell_type": "markdown",
   "metadata": {},
   "source": [
    "<img src=\"files/zip.png\" width=\"420px\">"
   ]
  },
  {
   "cell_type": "code",
   "execution_count": 113,
   "metadata": {},
   "outputs": [
    {
     "data": {
      "text/plain": [
       "<zip at 0x10a486948>"
      ]
     },
     "execution_count": 113,
     "metadata": {},
     "output_type": "execute_result"
    }
   ],
   "source": [
    "zip(range(10), \"параллелепипед\")"
   ]
  },
  {
   "cell_type": "code",
   "execution_count": 114,
   "metadata": {},
   "outputs": [
    {
     "data": {
      "text/plain": [
       "[(0, 'п'),\n",
       " (1, 'а'),\n",
       " (2, 'р'),\n",
       " (3, 'а'),\n",
       " (4, 'л'),\n",
       " (5, 'л'),\n",
       " (6, 'е'),\n",
       " (7, 'л'),\n",
       " (8, 'е'),\n",
       " (9, 'п')]"
      ]
     },
     "execution_count": 114,
     "metadata": {},
     "output_type": "execute_result"
    }
   ],
   "source": [
    "list(zip(range(10), \"параллелепипед\"))"
   ]
  },
  {
   "cell_type": "code",
   "execution_count": 115,
   "metadata": {},
   "outputs": [
    {
     "data": {
      "text/plain": [
       "[('п', 0, True),\n",
       " ('а', 1, True),\n",
       " ('р', 2, True),\n",
       " ('а', 3, False),\n",
       " ('л', 4, False),\n",
       " ('л', 5, True),\n",
       " ('е', 6, False)]"
      ]
     },
     "execution_count": 115,
     "metadata": {},
     "output_type": "execute_result"
    }
   ],
   "source": [
    "list(zip(\n",
    "    \"параллелепипед\",\n",
    "    range(10),\n",
    "    [True, True, True, False, False, True, False]\n",
    "))"
   ]
  },
  {
   "cell_type": "code",
   "execution_count": 116,
   "metadata": {},
   "outputs": [
    {
     "data": {
      "text/plain": [
       "[(0, 'п'),\n",
       " (1, 'а'),\n",
       " (2, 'р'),\n",
       " (3, 'а'),\n",
       " (4, 'л'),\n",
       " (5, 'л'),\n",
       " (6, 'е'),\n",
       " (7, 'л'),\n",
       " (8, 'е'),\n",
       " (9, 'п'),\n",
       " (10, 'и'),\n",
       " (11, 'п'),\n",
       " (12, 'е'),\n",
       " (13, 'д')]"
      ]
     },
     "execution_count": 116,
     "metadata": {},
     "output_type": "execute_result"
    }
   ],
   "source": [
    "s = \"параллелепипед\"\n",
    "list(zip(range(len(s)), s))"
   ]
  },
  {
   "cell_type": "code",
   "execution_count": 117,
   "metadata": {},
   "outputs": [
    {
     "data": {
      "text/plain": [
       "<enumerate at 0x10a499948>"
      ]
     },
     "execution_count": 117,
     "metadata": {},
     "output_type": "execute_result"
    }
   ],
   "source": [
    "enumerate(\"параллелепипед\")"
   ]
  },
  {
   "cell_type": "code",
   "execution_count": 118,
   "metadata": {},
   "outputs": [
    {
     "data": {
      "text/plain": [
       "[(0, 'п'),\n",
       " (1, 'а'),\n",
       " (2, 'р'),\n",
       " (3, 'а'),\n",
       " (4, 'л'),\n",
       " (5, 'л'),\n",
       " (6, 'е'),\n",
       " (7, 'л'),\n",
       " (8, 'е'),\n",
       " (9, 'п'),\n",
       " (10, 'и'),\n",
       " (11, 'п'),\n",
       " (12, 'е'),\n",
       " (13, 'д')]"
      ]
     },
     "execution_count": 118,
     "metadata": {},
     "output_type": "execute_result"
    }
   ],
   "source": [
    "list(enumerate(\"параллелепипед\"))"
   ]
  },
  {
   "cell_type": "code",
   "execution_count": 119,
   "metadata": {},
   "outputs": [
    {
     "name": "stdout",
     "output_type": "stream",
     "text": [
      "0\tп\n",
      "1\tа\n",
      "2\tр\n",
      "3\tа\n",
      "4\tл\n",
      "5\tл\n",
      "6\tе\n",
      "7\tл\n",
      "8\tе\n",
      "9\tп\n",
      "10\tи\n",
      "11\tп\n",
      "12\tе\n",
      "13\tд\n"
     ]
    }
   ],
   "source": [
    "for i, c in enumerate(\"параллелепипед\"):\n",
    "    print(i, c, sep='\\t')"
   ]
  },
  {
   "cell_type": "code",
   "execution_count": 120,
   "metadata": {},
   "outputs": [
    {
     "data": {
      "text/plain": [
       "[(0, 'п'),\n",
       " (1, 'а'),\n",
       " (2, 'р'),\n",
       " (3, 'а'),\n",
       " (4, 'л'),\n",
       " (5, 'л'),\n",
       " (6, 'е'),\n",
       " (7, 'л'),\n",
       " (8, 'е'),\n",
       " (9, 'п'),\n",
       " (None, 'и'),\n",
       " (None, 'п'),\n",
       " (None, 'е'),\n",
       " (None, 'д')]"
      ]
     },
     "execution_count": 120,
     "metadata": {},
     "output_type": "execute_result"
    }
   ],
   "source": [
    "from itertools import zip_longest\n",
    "\n",
    "list(zip_longest(range(10), \"параллелепипед\"))"
   ]
  },
  {
   "cell_type": "code",
   "execution_count": 121,
   "metadata": {},
   "outputs": [
    {
     "data": {
      "text/plain": [
       "[(0, 'п'),\n",
       " (1, 'а'),\n",
       " (2, 'р'),\n",
       " (3, 'а'),\n",
       " (4, 'л'),\n",
       " (5, 'л'),\n",
       " (6, 'е'),\n",
       " (7, 'л'),\n",
       " (8, 'е'),\n",
       " (9, 'п'),\n",
       " (-1, 'и'),\n",
       " (-1, 'п'),\n",
       " (-1, 'е'),\n",
       " (-1, 'д')]"
      ]
     },
     "execution_count": 121,
     "metadata": {},
     "output_type": "execute_result"
    }
   ],
   "source": [
    "list(zip_longest(range(10), \"параллелепипед\", fillvalue=-1))"
   ]
  },
  {
   "cell_type": "code",
   "execution_count": 122,
   "metadata": {},
   "outputs": [
    {
     "data": {
      "text/plain": [
       "[('п', 0, True),\n",
       " ('а', 1, True),\n",
       " ('р', 2, True),\n",
       " ('а', 3, False),\n",
       " ('л', 4, False),\n",
       " ('л', 5, True),\n",
       " ('е', 6, False),\n",
       " ('л', 7, None),\n",
       " ('е', 8, None),\n",
       " ('п', 9, None),\n",
       " ('и', None, None),\n",
       " ('п', None, None),\n",
       " ('е', None, None),\n",
       " ('д', None, None)]"
      ]
     },
     "execution_count": 122,
     "metadata": {},
     "output_type": "execute_result"
    }
   ],
   "source": [
    "list(zip_longest(\n",
    "    \"параллелепипед\",\n",
    "    range(10),\n",
    "    [True, True, True, False, False, True, False]\n",
    "))"
   ]
  },
  {
   "cell_type": "code",
   "execution_count": 123,
   "metadata": {},
   "outputs": [
    {
     "name": "stdout",
     "output_type": "stream",
     "text": [
      "426156754\thttps://habr.com/ru/company/mailru/blog/463045/\t1565611920\r\n",
      "4086447006\thttps://habr.com/ru/company/mailru/blog/462769/\t1565877120\r\n",
      "3093770339\thttps://habr.com/ru/company/mailru/blog/463063/\t1565345880\r\n",
      "1095223504\thttps://habr.com/ru/company/mailru/blog/462811/\t1565169840\r\n",
      "3229467448\thttps://habr.com/ru/company/mailru/blog/461927/\t1564500300\r\n"
     ]
    }
   ],
   "source": [
    "!cat files/documents.txt"
   ]
  },
  {
   "cell_type": "code",
   "execution_count": 124,
   "metadata": {},
   "outputs": [
    {
     "data": {
      "text/plain": [
       "[(426156754, 'https://habr.com/ru/company/mailru/blog/463045/', 1565611920),\n",
       " (4086447006, 'https://habr.com/ru/company/mailru/blog/462769/', 1565877120),\n",
       " (3093770339, 'https://habr.com/ru/company/mailru/blog/463063/', 1565345880),\n",
       " (1095223504, 'https://habr.com/ru/company/mailru/blog/462811/', 1565169840),\n",
       " (3229467448, 'https://habr.com/ru/company/mailru/blog/461927/', 1564500300)]"
      ]
     },
     "execution_count": 124,
     "metadata": {},
     "output_type": "execute_result"
    }
   ],
   "source": [
    "def parse(s):\n",
    "    doc_id, url, ts = s.split('\\t')\n",
    "    doc_id, ts = map(int, (doc_id, ts))\n",
    "    return doc_id, url, ts\n",
    "\n",
    "with open(\"files/documents.txt\", \"r\") as f_name:\n",
    "    result = list(map(parse, f_name))\n",
    "\n",
    "result"
   ]
  },
  {
   "cell_type": "code",
   "execution_count": 125,
   "metadata": {},
   "outputs": [
    {
     "data": {
      "text/plain": [
       "['https://habr.com/ru/company/mailru/blog/463045/',\n",
       " 'https://habr.com/ru/company/mailru/blog/462769/',\n",
       " 'https://habr.com/ru/company/mailru/blog/463063/',\n",
       " 'https://habr.com/ru/company/mailru/blog/462811/',\n",
       " 'https://habr.com/ru/company/mailru/blog/461927/']"
      ]
     },
     "execution_count": 125,
     "metadata": {},
     "output_type": "execute_result"
    }
   ],
   "source": [
    "list(map(itemgetter(1), result))"
   ]
  },
  {
   "cell_type": "code",
   "execution_count": 126,
   "metadata": {},
   "outputs": [
    {
     "data": {
      "text/plain": [
       "[[426156754, 4086447006, 3093770339, 1095223504, 3229467448],\n",
       " ['https://habr.com/ru/company/mailru/blog/463045/',\n",
       "  'https://habr.com/ru/company/mailru/blog/462769/',\n",
       "  'https://habr.com/ru/company/mailru/blog/463063/',\n",
       "  'https://habr.com/ru/company/mailru/blog/462811/',\n",
       "  'https://habr.com/ru/company/mailru/blog/461927/'],\n",
       " [1565611920, 1565877120, 1565345880, 1565169840, 1564500300]]"
      ]
     },
     "execution_count": 126,
     "metadata": {},
     "output_type": "execute_result"
    }
   ],
   "source": [
    "[list(map(itemgetter(i), result)) for i in range(len(result[0]))]"
   ]
  },
  {
   "cell_type": "code",
   "execution_count": 127,
   "metadata": {},
   "outputs": [
    {
     "data": {
      "text/plain": [
       "[(426156754, 4086447006, 3093770339, 1095223504, 3229467448),\n",
       " ('https://habr.com/ru/company/mailru/blog/463045/',\n",
       "  'https://habr.com/ru/company/mailru/blog/462769/',\n",
       "  'https://habr.com/ru/company/mailru/blog/463063/',\n",
       "  'https://habr.com/ru/company/mailru/blog/462811/',\n",
       "  'https://habr.com/ru/company/mailru/blog/461927/'),\n",
       " (1565611920, 1565877120, 1565345880, 1565169840, 1564500300)]"
      ]
     },
     "execution_count": 127,
     "metadata": {},
     "output_type": "execute_result"
    }
   ],
   "source": [
    "# Подумайте, почему это работает?\n",
    "\n",
    "list(zip(*result))"
   ]
  },
  {
   "cell_type": "markdown",
   "metadata": {},
   "source": [
    "### Замечание:\n",
    "\n",
    "Функции `map`, `filter`, `zip` и другие генераторы, можно объединять в цепочки."
   ]
  },
  {
   "cell_type": "markdown",
   "metadata": {},
   "source": [
    "# Декораторы"
   ]
  },
  {
   "cell_type": "code",
   "execution_count": 128,
   "metadata": {},
   "outputs": [
    {
     "name": "stdout",
     "output_type": "stream",
     "text": [
      "Hello world!\n"
     ]
    },
    {
     "data": {
      "text/plain": [
       "'greetings'"
      ]
     },
     "execution_count": 128,
     "metadata": {},
     "output_type": "execute_result"
    }
   ],
   "source": [
    "def decorator(func):\n",
    "    return func\n",
    "\n",
    "@decorator\n",
    "def greetings():\n",
    "    return \"Hello world!\"\n",
    "\n",
    "print(greetings())\n",
    "\n",
    "greetings.__name__"
   ]
  },
  {
   "cell_type": "code",
   "execution_count": 129,
   "metadata": {},
   "outputs": [
    {
     "name": "stdout",
     "output_type": "stream",
     "text": [
      "Bonjour le monde!\n"
     ]
    },
    {
     "data": {
      "text/plain": [
       "'func_new'"
      ]
     },
     "execution_count": 129,
     "metadata": {},
     "output_type": "execute_result"
    }
   ],
   "source": [
    "def decorator(func):\n",
    "    def func_new():\n",
    "        return \"Bonjour le monde!\"\n",
    "    return func_new\n",
    "\n",
    "@decorator\n",
    "def greetings():\n",
    "    return \"Hello world!\"\n",
    "\n",
    "print(greetings())\n",
    "\n",
    "greetings.__name__"
   ]
  },
  {
   "cell_type": "code",
   "execution_count": 130,
   "metadata": {},
   "outputs": [],
   "source": [
    "def logger(func):\n",
    "    def wrapper(a):\n",
    "        result = func(a)\n",
    "        with open('/tmp/decorator.logs', 'a') as f_output:\n",
    "            # Способ 1 писать в файл\n",
    "            # f_output.write(\"num = {}; result = {}\\n\".format(len(a), result))\n",
    "            \n",
    "            # Способ 2 писать в файл\n",
    "            print(\"num = {}; result = {}\".format(len(a), result), file=f_output)\n",
    "        return result\n",
    "    return wrapper\n",
    "\n",
    "@logger\n",
    "def summator(a):\n",
    "    return sum(a)"
   ]
  },
  {
   "cell_type": "code",
   "execution_count": 131,
   "metadata": {},
   "outputs": [
    {
     "data": {
      "text/plain": [
       "9"
      ]
     },
     "execution_count": 131,
     "metadata": {},
     "output_type": "execute_result"
    }
   ],
   "source": [
    "summator([1, 5, 3, 0])"
   ]
  },
  {
   "cell_type": "code",
   "execution_count": 132,
   "metadata": {},
   "outputs": [
    {
     "name": "stdout",
     "output_type": "stream",
     "text": [
      "num = 4; result = 9\r\n"
     ]
    }
   ],
   "source": [
    "!cat /tmp/decorator.logs"
   ]
  },
  {
   "cell_type": "code",
   "execution_count": 133,
   "metadata": {},
   "outputs": [
    {
     "data": {
      "text/plain": [
       "12"
      ]
     },
     "execution_count": 133,
     "metadata": {},
     "output_type": "execute_result"
    }
   ],
   "source": [
    "def summator(a):\n",
    "    return sum(a)\n",
    "\n",
    "logger(summator)([5, 2, 5])"
   ]
  },
  {
   "cell_type": "code",
   "execution_count": 134,
   "metadata": {},
   "outputs": [],
   "source": [
    "def logger(func):\n",
    "    def wrapper(*args, **argv):\n",
    "        result = func(*args, **argv)\n",
    "        with open('/tmp/decorator.logs', 'a') as f_output:\n",
    "            print(\"func = \\\"{}\\\"; result = {}\".format(func.__name__, result), file=f_output)\n",
    "        return result\n",
    "    return wrapper\n",
    "\n",
    "@logger\n",
    "def summator(a):\n",
    "    return sum(a)\n",
    "\n",
    "@logger\n",
    "def mod_taker(a, mod):\n",
    "    return list(map(lambda x: x % mod, a))"
   ]
  },
  {
   "cell_type": "code",
   "execution_count": 135,
   "metadata": {},
   "outputs": [
    {
     "data": {
      "text/plain": [
       "10"
      ]
     },
     "execution_count": 135,
     "metadata": {},
     "output_type": "execute_result"
    }
   ],
   "source": [
    "summator([1, 2, 3, 4])"
   ]
  },
  {
   "cell_type": "code",
   "execution_count": 136,
   "metadata": {},
   "outputs": [
    {
     "data": {
      "text/plain": [
       "[1, 2, 0, 1]"
      ]
     },
     "execution_count": 136,
     "metadata": {},
     "output_type": "execute_result"
    }
   ],
   "source": [
    "mod_taker([1, 2, 3, 4], 3)"
   ]
  },
  {
   "cell_type": "code",
   "execution_count": 137,
   "metadata": {},
   "outputs": [
    {
     "name": "stdout",
     "output_type": "stream",
     "text": [
      "num = 4; result = 9\r\n",
      "num = 3; result = 12\r\n",
      "func = \"summator\"; result = 10\r\n",
      "func = \"mod_taker\"; result = [1, 2, 0, 1]\r\n"
     ]
    }
   ],
   "source": [
    "!cat /tmp/decorator.logs"
   ]
  },
  {
   "cell_type": "code",
   "execution_count": 138,
   "metadata": {},
   "outputs": [
    {
     "data": {
      "text/plain": [
       "'wrapper'"
      ]
     },
     "execution_count": 138,
     "metadata": {},
     "output_type": "execute_result"
    }
   ],
   "source": [
    "summator.__name__"
   ]
  },
  {
   "cell_type": "code",
   "execution_count": 139,
   "metadata": {},
   "outputs": [],
   "source": [
    "import functools\n",
    "\n",
    "def logger(func):\n",
    "    @functools.wraps(func)\n",
    "    def wrapper(*args, **argv):\n",
    "        result = func(*args, **argv)\n",
    "        with open('/tmp/decorator.logs', 'a') as f_output:\n",
    "            print(\"func = \\\"{}\\\"; result = {}\".format(func.__name__, result), file=f_output)\n",
    "        return result\n",
    "    return wrapper\n",
    "\n",
    "@logger\n",
    "def summator(a):\n",
    "    return sum(a)"
   ]
  },
  {
   "cell_type": "code",
   "execution_count": 140,
   "metadata": {},
   "outputs": [
    {
     "data": {
      "text/plain": [
       "'summator'"
      ]
     },
     "execution_count": 140,
     "metadata": {},
     "output_type": "execute_result"
    }
   ],
   "source": [
    "summator.__name__"
   ]
  },
  {
   "cell_type": "code",
   "execution_count": 146,
   "metadata": {},
   "outputs": [
    {
     "data": {
      "text/plain": [
       "11"
      ]
     },
     "execution_count": 146,
     "metadata": {},
     "output_type": "execute_result"
    }
   ],
   "source": [
    "def logger(filename):\n",
    "    def decorator(func):\n",
    "        def wrapper(*args, **argv):\n",
    "            result = func(*args, **argv)\n",
    "            with open(filename, 'a') as f_output:\n",
    "                print(\"func = \\\"{}\\\"; result = {}\".format(func.__name__, result), file=f_output)\n",
    "            return result\n",
    "        return wrapper\n",
    "    return decorator\n",
    "\n",
    "@logger(\"/tmp/decorator2.logs\")\n",
    "def summator(a):\n",
    "    return sum(a)\n",
    "\n",
    "summator([1, 2, 3, 5])"
   ]
  },
  {
   "cell_type": "code",
   "execution_count": 147,
   "metadata": {},
   "outputs": [
    {
     "name": "stdout",
     "output_type": "stream",
     "text": [
      "func = \"summator\"; result = 11\r\n",
      "func = \"summator\"; result = 11\r\n"
     ]
    }
   ],
   "source": [
    "!cat /tmp/decorator2.logs"
   ]
  },
  {
   "cell_type": "code",
   "execution_count": 143,
   "metadata": {},
   "outputs": [
    {
     "name": "stdout",
     "output_type": "stream",
     "text": [
      "256\n",
      "256\n",
      "16\n",
      "256\n",
      "16\n"
     ]
    }
   ],
   "source": [
    "from time import sleep\n",
    "\n",
    "def cached(func):\n",
    "    cache = dict()\n",
    "    @functools.wraps(func)\n",
    "    def wrapper(*args):\n",
    "        key = (func, args)\n",
    "        if key not in cache:\n",
    "            cache[key] = func(*args)\n",
    "        return cache[key]\n",
    "    return wrapper\n",
    "\n",
    "@cached\n",
    "def power2(x):\n",
    "    sleep(3)\n",
    "    return 2 ** x\n",
    "\n",
    "print(power2(8))\n",
    "print(power2(8))\n",
    "print(power2(4))\n",
    "print(power2(8))\n",
    "print(power2(4))"
   ]
  },
  {
   "cell_type": "code",
   "execution_count": 144,
   "metadata": {},
   "outputs": [
    {
     "name": "stdout",
     "output_type": "stream",
     "text": [
      "256\n",
      "256\n",
      "16\n",
      "256\n",
      "16\n"
     ]
    }
   ],
   "source": [
    "from functools import lru_cache\n",
    "\n",
    "@lru_cache(maxsize=5)\n",
    "def power2(x):\n",
    "    sleep(3)\n",
    "    return 2 ** x\n",
    "\n",
    "print(power2(8))\n",
    "print(power2(8))\n",
    "print(power2(4))\n",
    "print(power2(8))\n",
    "print(power2(4))"
   ]
  },
  {
   "cell_type": "code",
   "execution_count": 145,
   "metadata": {},
   "outputs": [
    {
     "name": "stdout",
     "output_type": "stream",
     "text": [
      "Entering 1st decorator...\n",
      "Entering 2nd decorator...\n",
      "Hello world!\n",
      "Exiting 2nd decorator...\n",
      "Exiting 1st decorator...\n"
     ]
    }
   ],
   "source": [
    "def decorator1(func):\n",
    "    def wrapped():\n",
    "        print('Entering 1st decorator...')\n",
    "        result = func()\n",
    "        print('Exiting 1st decorator...')\n",
    "        return result\n",
    "    return wrapped\n",
    "\n",
    "def decorator2(func):\n",
    "    def wrapped():\n",
    "        print('Entering 2nd decorator...')\n",
    "        result = func()\n",
    "        print('Exiting 2nd decorator...')\n",
    "        return result\n",
    "    return wrapped\n",
    "\n",
    "@decorator1\n",
    "@decorator2\n",
    "def greetings():\n",
    "    print(\"Hello world!\")\n",
    "    \n",
    "greetings()"
   ]
  },
  {
   "cell_type": "code",
   "execution_count": null,
   "metadata": {},
   "outputs": [],
   "source": []
  }
 ],
 "metadata": {
  "kernelspec": {
   "display_name": "Python 3",
   "language": "python",
   "name": "python3"
  },
  "language_info": {
   "codemirror_mode": {
    "name": "ipython",
    "version": 3
   },
   "file_extension": ".py",
   "mimetype": "text/x-python",
   "name": "python",
   "nbconvert_exporter": "python",
   "pygments_lexer": "ipython3",
   "version": "3.7.3"
  }
 },
 "nbformat": 4,
 "nbformat_minor": 2
}
